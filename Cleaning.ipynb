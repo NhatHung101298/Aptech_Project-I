{
 "cells": [
  {
   "cell_type": "code",
   "execution_count": 1,
   "outputs": [],
   "source": [
    "import pandas as pd\n",
    "import numpy as np\n",
    "import matplotlib.pyplot as plt\n",
    "import seaborn as sns\n",
    "survey_2022 = pd.read_csv('final_survey_2022.csv')\n",
    "# survey_2021 = pd.read_csv('dataset/csv files/survey_results_public 2021.csv')\n",
    "# survey_2020 = pd.read_csv('dataset/csv files/survey_results_public 2020.csv')"
   ],
   "metadata": {
    "collapsed": false,
    "pycharm": {
     "name": "#%%\n"
    }
   }
  },
  {
   "cell_type": "code",
   "execution_count": 2,
   "outputs": [],
   "source": [
    "selected_col = ['Unnamed: 0', 'ResponseId', 'MainBranch', 'Employment', 'RemoteWork',\n",
    "                'CodingActivities', 'EdLevel', 'LearnCode', 'LearnCodeOnline',\n",
    "                'LearnCodeCoursesCert', 'YearsCode', 'YearsCodePro', 'DevType',\n",
    "                'OrgSize', 'PurchaseInfluence', 'Country', 'Currency',\n",
    "                'CompTotal', 'CompFreq', 'LanguageHaveWorkedWith',\n",
    "                'LanguageWantToWorkWith', 'DatabaseHaveWorkedWith',\n",
    "                'DatabaseWantToWorkWith', 'PlatformHaveWorkedWith',\n",
    "                'PlatformWantToWorkWith', 'OpSysProfessional use',\n",
    "                'OpSysPersonal use', 'VersionControlSystem', 'VCInteraction','Age', 'Gender']\n",
    "dev_profile_col = ['Unnamed: 0', 'ResponseId', 'MainBranch',\n",
    "                   'CodingActivities', 'EdLevel', 'LearnCode', 'LearnCodeOnline',\n",
    "                   'LearnCodeCoursesCert', 'YearsCode', 'YearsCodePro', 'DevType', 'Age', 'Gender']\n",
    "work_col = ['Unnamed: 0', 'ResponseId', 'OrgSize', 'Country', 'RemoteWork']\n",
    "salary_col = ['Unnamed: 0', 'ResponseId', 'Country', 'Currency',\n",
    "              'CompTotal', 'CompFreq']\n",
    "tech_col = ['Unnamed: 0', 'ResponseId', 'LanguageHaveWorkedWith',\n",
    "            'LanguageWantToWorkWith', 'DatabaseHaveWorkedWith',\n",
    "            'DatabaseWantToWorkWith', 'PlatformHaveWorkedWith',\n",
    "            'PlatformWantToWorkWith', 'OpSysProfessional use',\n",
    "            'OpSysPersonal use', 'VersionControlSystem', 'VCInteraction']"
   ],
   "metadata": {
    "collapsed": false,
    "pycharm": {
     "name": "#%%\n"
    }
   }
  },
  {
   "cell_type": "code",
   "execution_count": 3,
   "outputs": [],
   "source": [
    "final_dataset = survey_2022[selected_col]\n",
    "final_dataset.to_csv('final_dataset.csv')"
   ],
   "metadata": {
    "collapsed": false,
    "pycharm": {
     "name": "#%%\n"
    }
   }
  },
  {
   "cell_type": "markdown",
   "source": [],
   "metadata": {
    "collapsed": false,
    "pycharm": {
     "name": "#%% md\n"
    }
   }
  },
  {
   "cell_type": "code",
   "execution_count": 5,
   "outputs": [
    {
     "name": "stdout",
     "output_type": "stream",
     "text": [
      "3.5.1\n",
      "0.11.2\n"
     ]
    }
   ],
   "source": [
    "# !pip install brewer2mpl\n",
    "import numpy as np\n",
    "import pandas as pd\n",
    "import matplotlib as mpl\n",
    "import matplotlib.pyplot as plt\n",
    "import seaborn as sns\n",
    "import warnings; warnings.filterwarnings(action='once')\n",
    "\n",
    "large = 22; med = 16; small = 12\n",
    "params = {'axes.titlesize': large,\n",
    "          'legend.fontsize': med,\n",
    "          'figure.figsize': (25, 20),\n",
    "          'axes.labelsize': med,\n",
    "          'axes.titlesize': med,\n",
    "          'xtick.labelsize': small,\n",
    "          'ytick.labelsize': med,\n",
    "          'figure.titlesize': large}\n",
    "plt.rcParams.update(params)\n",
    "plt.style.use('seaborn-whitegrid')\n",
    "sns.set_style(\"white\")\n",
    "%matplotlib inline"
   ],
   "metadata": {
    "collapsed": false,
    "pycharm": {
     "name": "#%%\n"
    }
   }
  },
  {
   "cell_type": "code",
   "execution_count": 10,
   "outputs": [
    {
     "name": "stdout",
     "output_type": "stream",
     "text": [
      "<class 'pandas.core.frame.DataFrame'>\n",
      "Int64Index: 38347 entries, 2 to 73266\n",
      "Data columns (total 18 columns):\n",
      " #   Column                Non-Null Count  Dtype  \n",
      "---  ------                --------------  -----  \n",
      " 0   Gender                38213 non-null  object \n",
      " 1   Currency              38347 non-null  object \n",
      " 2   Age                   38259 non-null  object \n",
      " 3   DevType               38250 non-null  object \n",
      " 4   CompTotal             38347 non-null  float64\n",
      " 5   LearnCodeCoursesCert  15378 non-null  object \n",
      " 6   Unnamed: 0            38347 non-null  int64  \n",
      " 7   LearnCodeOnline       26401 non-null  object \n",
      " 8   Country               38347 non-null  object \n",
      " 9   CompFreq              38347 non-null  object \n",
      " 10  ResponseId            38347 non-null  int64  \n",
      " 11  CodingActivities      38259 non-null  object \n",
      " 12  YearsCode             38275 non-null  object \n",
      " 13  YearsCodePro          38205 non-null  object \n",
      " 14  EdLevel               38329 non-null  object \n",
      " 15  MainBranch            38347 non-null  object \n",
      " 16  LearnCode             38326 non-null  object \n",
      " 17  AnualComp             38347 non-null  float64\n",
      "dtypes: float64(2), int64(2), object(14)\n",
      "memory usage: 5.6+ MB\n"
     ]
    },
    {
     "name": "stderr",
     "output_type": "stream",
     "text": [
      "/var/folders/tr/xn8v7xg16210g483rgngckhm0000gn/T/ipykernel_2632/3164728812.py:1: SettingWithCopyWarning: \n",
      "A value is trying to be set on a copy of a slice from a DataFrame.\n",
      "Try using .loc[row_indexer,col_indexer] = value instead\n",
      "\n",
      "See the caveats in the documentation: https://pandas.pydata.org/pandas-docs/stable/user_guide/indexing.html#returning-a-view-versus-a-copy\n",
      "  profile_salary_df.loc[profile_salary_df['CompFreq'] == 'Weekly', 'AnualComp'] = profile_salary_df['CompTotal'] * 52\n"
     ]
    }
   ],
   "source": [
    "profile_salary_df.loc[profile_salary_df['CompFreq'] == 'Weekly', 'AnualComp'] = profile_salary_df['CompTotal'] * 52\n",
    "profile_salary_df.loc[profile_salary_df['CompFreq'] == 'Monthly', 'AnualComp'] = profile_salary_df['CompTotal'] * 12\n",
    "profile_salary_df.loc[profile_salary_df['CompFreq'] == 'Yearly', 'AnualComp'] = profile_salary_df['CompTotal']\n",
    "profile_salary_df['AnualComp'].isnull().sum()\n",
    "df = profile_salary_df[profile_salary_df['AnualComp'].notnull()]"
   ],
   "metadata": {
    "collapsed": false,
    "pycharm": {
     "name": "#%%\n"
    }
   }
  },
  {
   "cell_type": "code",
   "execution_count": 11,
   "outputs": [
    {
     "data": {
      "text/plain": "<Figure size 720x576 with 1 Axes>",
      "image/png": "[encoded data removed]"
     },
     "metadata": {
      "needs_background": "light"
     },
     "output_type": "display_data"
    }
   ],
   "source": [
    "def plot_null_matrix(df, figsize=(10,8)):    # initiate the figure\n",
    "    plt.figure(figsize=figsize)    # create a boolean dataframe based on whether values are null\n",
    "    df_null = df.isnull()    # create a heatmap of the boolean dataframe\n",
    "    sns.heatmap(~df_null, cbar=False, yticklabels=False)\n",
    "    plt.show()\n",
    "plot_null_matrix(df)"
   ],
   "metadata": {
    "collapsed": false,
    "pycharm": {
     "name": "#%%\n"
    }
   }
  },
  {
   "cell_type": "markdown",
   "source": [],
   "metadata": {
    "collapsed": false,
    "pycharm": {
     "name": "#%% md\n"
    }
   }
  },
  {
   "cell_type": "code",
   "execution_count": 23,
   "outputs": [],
   "source": [
    "curr_rate = pd.read_excel('CurrRate.xlsx')\n",
    "curr_code = pd.read_excel('CurrCode.xlsx')\n",
    "curr_rate.rename(columns={'Countries' : 'Country'}, inplace=True)"
   ],
   "metadata": {
    "collapsed": false,
    "pycharm": {
     "name": "#%%\n"
    }
   }
  },
  {
   "cell_type": "code",
   "execution_count": 13,
   "outputs": [
    {
     "data": {
      "text/plain": "         Country  Latest available value Reference date Change three months  \\\n0    Afghanistan                 89.4182     2022-08-22               1.45%   \n1        Albania                115.5465     2022-08-22               1.32%   \n2        Algeria                142.6180     2022-08-22              -2.03%   \n3        Andorra                  0.9882     2022-08-22               4.51%   \n4         Angola                429.5054     2022-08-22               4.34%   \n..           ...                     ...            ...                 ...   \n186   Uzbekistan              10938.6159     2022-08-22              -1.59%   \n187      Vanuatu                109.4335     2022-06-18              -0.00%   \n188      Vietnam              23405.3405     2022-08-22               1.37%   \n189        Yemen               1239.0000     2022-08-22               0.00%   \n190       Zambia                 16.1093     2022-08-22              -5.59%   \n\n    Change twelve months  \n0                 11.55%  \n1                 11.99%  \n2                  5.46%  \n3                 16.30%  \n4                -32.65%  \n..                   ...  \n186                2.70%  \n187               -0.63%  \n188                2.32%  \n189              395.27%  \n190              -14.36%  \n\n[191 rows x 5 columns]",
      "text/html": "<div>\n<style scoped>\n    .dataframe tbody tr th:only-of-type {\n        vertical-align: middle;\n    }\n\n    .dataframe tbody tr th {\n        vertical-align: top;\n    }\n\n    .dataframe thead th {\n        text-align: right;\n    }\n</style>\n<table border=\"1\" class=\"dataframe\">\n  <thead>\n    <tr style=\"text-align: right;\">\n      <th></th>\n      <th>Country</th>\n      <th>Latest available value</th>\n      <th>Reference date</th>\n      <th>Change three months</th>\n      <th>Change twelve months</th>\n    </tr>\n  </thead>\n  <tbody>\n    <tr>\n      <th>0</th>\n      <td>Afghanistan</td>\n      <td>89.4182</td>\n      <td>2022-08-22</td>\n      <td>1.45%</td>\n      <td>11.55%</td>\n    </tr>\n    <tr>\n      <th>1</th>\n      <td>Albania</td>\n      <td>115.5465</td>\n      <td>2022-08-22</td>\n      <td>1.32%</td>\n      <td>11.99%</td>\n    </tr>\n    <tr>\n      <th>2</th>\n      <td>Algeria</td>\n      <td>142.6180</td>\n      <td>2022-08-22</td>\n      <td>-2.03%</td>\n      <td>5.46%</td>\n    </tr>\n    <tr>\n      <th>3</th>\n      <td>Andorra</td>\n      <td>0.9882</td>\n      <td>2022-08-22</td>\n      <td>4.51%</td>\n      <td>16.30%</td>\n    </tr>\n    <tr>\n      <th>4</th>\n      <td>Angola</td>\n      <td>429.5054</td>\n      <td>2022-08-22</td>\n      <td>4.34%</td>\n      <td>-32.65%</td>\n    </tr>\n    <tr>\n      <th>...</th>\n      <td>...</td>\n      <td>...</td>\n      <td>...</td>\n      <td>...</td>\n      <td>...</td>\n    </tr>\n    <tr>\n      <th>186</th>\n      <td>Uzbekistan</td>\n      <td>10938.6159</td>\n      <td>2022-08-22</td>\n      <td>-1.59%</td>\n      <td>2.70%</td>\n    </tr>\n    <tr>\n      <th>187</th>\n      <td>Vanuatu</td>\n      <td>109.4335</td>\n      <td>2022-06-18</td>\n      <td>-0.00%</td>\n      <td>-0.63%</td>\n    </tr>\n    <tr>\n      <th>188</th>\n      <td>Vietnam</td>\n      <td>23405.3405</td>\n      <td>2022-08-22</td>\n      <td>1.37%</td>\n      <td>2.32%</td>\n    </tr>\n    <tr>\n      <th>189</th>\n      <td>Yemen</td>\n      <td>1239.0000</td>\n      <td>2022-08-22</td>\n      <td>0.00%</td>\n      <td>395.27%</td>\n    </tr>\n    <tr>\n      <th>190</th>\n      <td>Zambia</td>\n      <td>16.1093</td>\n      <td>2022-08-22</td>\n      <td>-5.59%</td>\n      <td>-14.36%</td>\n    </tr>\n  </tbody>\n</table>\n<p>191 rows × 5 columns</p>\n</div>"
     },
     "execution_count": 13,
     "metadata": {},
     "output_type": "execute_result"
    }
   ],
   "source": [
    "curr_rate['Country'] = curr_rate['Country'].astype('string')\n",
    "curr_rate"
   ],
   "metadata": {
    "collapsed": false,
    "pycharm": {
     "name": "#%%\n"
    }
   }
  },
  {
   "cell_type": "code",
   "execution_count": 24,
   "outputs": [],
   "source": [
    "curr_code['Country'] = curr_code['Country'].astype('string')\n",
    "curr_code['Code'] = curr_code['Code'].astype('string')"
   ],
   "metadata": {
    "collapsed": false,
    "pycharm": {
     "name": "#%%\n"
    }
   }
  },
  {
   "cell_type": "code",
   "execution_count": 25,
   "outputs": [],
   "source": [
    "def title_function(string):\n",
    "    string = string.title()\n",
    "    return string\n",
    "curr_code['Country'] = curr_code['Country'].apply(title_function)"
   ],
   "metadata": {
    "collapsed": false,
    "pycharm": {
     "name": "#%%\n"
    }
   }
  },
  {
   "cell_type": "code",
   "execution_count": 16,
   "outputs": [
    {
     "data": {
      "text/plain": "         Country  Latest available value Reference date Change three months  \\\n0    Afghanistan                 89.4182     2022-08-22               1.45%   \n1        Albania                115.5465     2022-08-22               1.32%   \n2        Algeria                142.6180     2022-08-22              -2.03%   \n3        Andorra                  0.9882     2022-08-22               4.51%   \n4         Angola                429.5054     2022-08-22               4.34%   \n..           ...                     ...            ...                 ...   \n160      Uruguay                 40.4636     2022-08-22              -0.90%   \n161   Uzbekistan              10938.6159     2022-08-22              -1.59%   \n162      Vanuatu                109.4335     2022-06-18              -0.00%   \n163        Yemen               1239.0000     2022-08-22               0.00%   \n164       Zambia                 16.1093     2022-08-22              -5.59%   \n\n    Change twelve months        Currency Code  Number  \n0                 11.55%         Afghani  AFN   971.0  \n1                 11.99%             Lek  ALL     8.0  \n2                  5.46%  Algerian Dinar  DZD    12.0  \n3                 16.30%            Euro  EUR   978.0  \n4                -32.65%          Kwanza  AOA   973.0  \n..                   ...             ...  ...     ...  \n160               -6.91%   Peso Uruguayo  UYU   858.0  \n161                2.70%  Uzbekistan Sum  UZS   860.0  \n162               -0.63%            Vatu  VUV   548.0  \n163              395.27%     Yemeni Rial  YER   886.0  \n164              -14.36%  Zambian Kwacha  ZMW   967.0  \n\n[165 rows x 8 columns]",
      "text/html": "<div>\n<style scoped>\n    .dataframe tbody tr th:only-of-type {\n        vertical-align: middle;\n    }\n\n    .dataframe tbody tr th {\n        vertical-align: top;\n    }\n\n    .dataframe thead th {\n        text-align: right;\n    }\n</style>\n<table border=\"1\" class=\"dataframe\">\n  <thead>\n    <tr style=\"text-align: right;\">\n      <th></th>\n      <th>Country</th>\n      <th>Latest available value</th>\n      <th>Reference date</th>\n      <th>Change three months</th>\n      <th>Change twelve months</th>\n      <th>Currency</th>\n      <th>Code</th>\n      <th>Number</th>\n    </tr>\n  </thead>\n  <tbody>\n    <tr>\n      <th>0</th>\n      <td>Afghanistan</td>\n      <td>89.4182</td>\n      <td>2022-08-22</td>\n      <td>1.45%</td>\n      <td>11.55%</td>\n      <td>Afghani</td>\n      <td>AFN</td>\n      <td>971.0</td>\n    </tr>\n    <tr>\n      <th>1</th>\n      <td>Albania</td>\n      <td>115.5465</td>\n      <td>2022-08-22</td>\n      <td>1.32%</td>\n      <td>11.99%</td>\n      <td>Lek</td>\n      <td>ALL</td>\n      <td>8.0</td>\n    </tr>\n    <tr>\n      <th>2</th>\n      <td>Algeria</td>\n      <td>142.6180</td>\n      <td>2022-08-22</td>\n      <td>-2.03%</td>\n      <td>5.46%</td>\n      <td>Algerian Dinar</td>\n      <td>DZD</td>\n      <td>12.0</td>\n    </tr>\n    <tr>\n      <th>3</th>\n      <td>Andorra</td>\n      <td>0.9882</td>\n      <td>2022-08-22</td>\n      <td>4.51%</td>\n      <td>16.30%</td>\n      <td>Euro</td>\n      <td>EUR</td>\n      <td>978.0</td>\n    </tr>\n    <tr>\n      <th>4</th>\n      <td>Angola</td>\n      <td>429.5054</td>\n      <td>2022-08-22</td>\n      <td>4.34%</td>\n      <td>-32.65%</td>\n      <td>Kwanza</td>\n      <td>AOA</td>\n      <td>973.0</td>\n    </tr>\n    <tr>\n      <th>...</th>\n      <td>...</td>\n      <td>...</td>\n      <td>...</td>\n      <td>...</td>\n      <td>...</td>\n      <td>...</td>\n      <td>...</td>\n      <td>...</td>\n    </tr>\n    <tr>\n      <th>160</th>\n      <td>Uruguay</td>\n      <td>40.4636</td>\n      <td>2022-08-22</td>\n      <td>-0.90%</td>\n      <td>-6.91%</td>\n      <td>Peso Uruguayo</td>\n      <td>UYU</td>\n      <td>858.0</td>\n    </tr>\n    <tr>\n      <th>161</th>\n      <td>Uzbekistan</td>\n      <td>10938.6159</td>\n      <td>2022-08-22</td>\n      <td>-1.59%</td>\n      <td>2.70%</td>\n      <td>Uzbekistan Sum</td>\n      <td>UZS</td>\n      <td>860.0</td>\n    </tr>\n    <tr>\n      <th>162</th>\n      <td>Vanuatu</td>\n      <td>109.4335</td>\n      <td>2022-06-18</td>\n      <td>-0.00%</td>\n      <td>-0.63%</td>\n      <td>Vatu</td>\n      <td>VUV</td>\n      <td>548.0</td>\n    </tr>\n    <tr>\n      <th>163</th>\n      <td>Yemen</td>\n      <td>1239.0000</td>\n      <td>2022-08-22</td>\n      <td>0.00%</td>\n      <td>395.27%</td>\n      <td>Yemeni Rial</td>\n      <td>YER</td>\n      <td>886.0</td>\n    </tr>\n    <tr>\n      <th>164</th>\n      <td>Zambia</td>\n      <td>16.1093</td>\n      <td>2022-08-22</td>\n      <td>-5.59%</td>\n      <td>-14.36%</td>\n      <td>Zambian Kwacha</td>\n      <td>ZMW</td>\n      <td>967.0</td>\n    </tr>\n  </tbody>\n</table>\n<p>165 rows × 8 columns</p>\n</div>"
     },
     "execution_count": 16,
     "metadata": {},
     "output_type": "execute_result"
    }
   ],
   "source": [
    "curr_df = curr_rate.merge(curr_code, on='Country', how = 'inner')\n",
    "curr_df"
   ],
   "metadata": {
    "collapsed": false,
    "pycharm": {
     "name": "#%%\n"
    }
   }
  },
  {
   "cell_type": "code",
   "execution_count": 26,
   "outputs": [
    {
     "name": "stderr",
     "output_type": "stream",
     "text": [
      "/var/folders/tr/xn8v7xg16210g483rgngckhm0000gn/T/ipykernel_2632/1207577162.py:3: SettingWithCopyWarning: \n",
      "A value is trying to be set on a copy of a slice from a DataFrame\n",
      "\n",
      "See the caveats in the documentation: https://pandas.pydata.org/pandas-docs/stable/user_guide/indexing.html#returning-a-view-versus-a-copy\n",
      "  final_curr.drop_duplicates(inplace = True)\n"
     ]
    }
   ],
   "source": [
    "curr_df.rename(columns={'Code':'CurrencyCode', 'Latest available value':'ExchangeRate'}, inplace = True)\n",
    "final_curr = curr_df[['CurrencyCode','ExchangeRate']]\n",
    "final_curr.drop_duplicates(inplace = True)\n",
    "final_curr.loc[final_curr['CurrencyCode'] == 'ZAR', 'ExchangeRate'] = final_curr[final_curr['CurrencyCode'] == 'ZAR']['ExchangeRate'].mean()\n",
    "final_curr.loc[final_curr['CurrencyCode'] == 'USD', 'ExchangeRate'] = 1"
   ],
   "metadata": {
    "collapsed": false,
    "pycharm": {
     "name": "#%%\n"
    }
   }
  },
  {
   "cell_type": "code",
   "execution_count": 96,
   "outputs": [
    {
     "name": "stderr",
     "output_type": "stream",
     "text": [
      "/var/folders/tr/xn8v7xg16210g483rgngckhm0000gn/T/ipykernel_2632/2794428525.py:1: SettingWithCopyWarning: \n",
      "A value is trying to be set on a copy of a slice from a DataFrame\n",
      "\n",
      "See the caveats in the documentation: https://pandas.pydata.org/pandas-docs/stable/user_guide/indexing.html#returning-a-view-versus-a-copy\n",
      "  final_curr.drop_duplicates(inplace=True)\n"
     ]
    },
    {
     "data": {
      "text/plain": "    CurrencyCode  ExchangeRate\n0            AFN       89.4182\n1            ALL      115.5465\n2            DZD      142.6180\n3            EUR        0.9882\n4            AOA      429.5054\n..           ...           ...\n160          UYU       40.4636\n161          UZS    10938.6159\n162          VUV      109.4335\n163          YER     1239.0000\n164          ZMW       16.1093\n\n[125 rows x 2 columns]",
      "text/html": "<div>\n<style scoped>\n    .dataframe tbody tr th:only-of-type {\n        vertical-align: middle;\n    }\n\n    .dataframe tbody tr th {\n        vertical-align: top;\n    }\n\n    .dataframe thead th {\n        text-align: right;\n    }\n</style>\n<table border=\"1\" class=\"dataframe\">\n  <thead>\n    <tr style=\"text-align: right;\">\n      <th></th>\n      <th>CurrencyCode</th>\n      <th>ExchangeRate</th>\n    </tr>\n  </thead>\n  <tbody>\n    <tr>\n      <th>0</th>\n      <td>AFN</td>\n      <td>89.4182</td>\n    </tr>\n    <tr>\n      <th>1</th>\n      <td>ALL</td>\n      <td>115.5465</td>\n    </tr>\n    <tr>\n      <th>2</th>\n      <td>DZD</td>\n      <td>142.6180</td>\n    </tr>\n    <tr>\n      <th>3</th>\n      <td>EUR</td>\n      <td>0.9882</td>\n    </tr>\n    <tr>\n      <th>4</th>\n      <td>AOA</td>\n      <td>429.5054</td>\n    </tr>\n    <tr>\n      <th>...</th>\n      <td>...</td>\n      <td>...</td>\n    </tr>\n    <tr>\n      <th>160</th>\n      <td>UYU</td>\n      <td>40.4636</td>\n    </tr>\n    <tr>\n      <th>161</th>\n      <td>UZS</td>\n      <td>10938.6159</td>\n    </tr>\n    <tr>\n      <th>162</th>\n      <td>VUV</td>\n      <td>109.4335</td>\n    </tr>\n    <tr>\n      <th>163</th>\n      <td>YER</td>\n      <td>1239.0000</td>\n    </tr>\n    <tr>\n      <th>164</th>\n      <td>ZMW</td>\n      <td>16.1093</td>\n    </tr>\n  </tbody>\n</table>\n<p>125 rows × 2 columns</p>\n</div>"
     },
     "execution_count": 96,
     "metadata": {},
     "output_type": "execute_result"
    }
   ],
   "source": [
    "final_curr.drop_duplicates(inplace=True)\n",
    "final_curr"
   ],
   "metadata": {
    "collapsed": false,
    "pycharm": {
     "name": "#%%\n"
    }
   }
  },
  {
   "cell_type": "code",
   "execution_count": 20,
   "outputs": [
    {
     "name": "stderr",
     "output_type": "stream",
     "text": [
      "/var/folders/tr/xn8v7xg16210g483rgngckhm0000gn/T/ipykernel_2632/1535338928.py:1: SettingWithCopyWarning: \n",
      "A value is trying to be set on a copy of a slice from a DataFrame.\n",
      "Try using .loc[row_indexer,col_indexer] = value instead\n",
      "\n",
      "See the caveats in the documentation: https://pandas.pydata.org/pandas-docs/stable/user_guide/indexing.html#returning-a-view-versus-a-copy\n",
      "  df['Currency'] = df['Currency'].astype('string')\n",
      "/var/folders/tr/xn8v7xg16210g483rgngckhm0000gn/T/ipykernel_2632/1535338928.py:2: SettingWithCopyWarning: \n",
      "A value is trying to be set on a copy of a slice from a DataFrame.\n",
      "Try using .loc[row_indexer,col_indexer] = value instead\n",
      "\n",
      "See the caveats in the documentation: https://pandas.pydata.org/pandas-docs/stable/user_guide/indexing.html#returning-a-view-versus-a-copy\n",
      "  df['CurrencyCode'] = np.nan\n"
     ]
    }
   ],
   "source": [
    "df['Currency'] = df['Currency'].astype('string')\n",
    "df['CurrencyCode'] = np.nan\n",
    "df['CurrencyCode'] = df['Currency'].apply(lambda x: x[:3])\n",
    "# df = df.merge(curr_df, on='CurrencyCode', how='left')\n",
    "df_copy = df.copy()"
   ],
   "metadata": {
    "collapsed": false,
    "pycharm": {
     "name": "#%%\n"
    }
   }
  },
  {
   "cell_type": "code",
   "execution_count": 21,
   "outputs": [
    {
     "data": {
      "text/plain": "      Gender                  Currency              Age  \\\n0        Man        GBP\tPound sterling  25-34 years old   \n1        Man    ILS\tIsraeli new shekel  35-44 years old   \n2      Woman         EUR European Euro  25-34 years old   \n3        Man        GBP\tPound sterling  18-24 years old   \n4        Man  USD\tUnited States dollar  35-44 years old   \n...      ...                       ...              ...   \n38342    Man          PLN\tPolish zloty  25-34 years old   \n38343    Man         EUR European Euro  18-24 years old   \n38344    Man  USD\tUnited States dollar  25-34 years old   \n38345    Man  USD\tUnited States dollar  25-34 years old   \n38346    Man        GBP\tPound sterling  55-64 years old   \n\n                                                 DevType  CompTotal  \\\n0      Data scientist or machine learning specialist;...    32000.0   \n1                                  Developer, full-stack    60000.0   \n2                                    Developer, back-end    46000.0   \n3              Developer, full-stack;Developer, back-end    48000.0   \n4                                    Engineering manager   194400.0   \n...                                                  ...        ...   \n38342                                Developer, back-end     8000.0   \n38343                              Developer, full-stack    36000.0   \n38344                                Developer, back-end    60000.0   \n38345      Data scientist or machine learning specialist   107000.0   \n38346  Developer, front-end;Developer, desktop or ent...    58500.0   \n\n               LearnCodeCoursesCert  Unnamed: 0  \\\n0                               NaN           2   \n1                               NaN           3   \n2                               NaN           8   \n3                               NaN          10   \n4                               NaN          11   \n...                             ...         ...   \n38342                           NaN       73259   \n38343  Udemy;Codecademy;Pluralsight       73261   \n38344                         Udemy       73263   \n38345        Coursera;Udemy;Udacity       73264   \n38346                           NaN       73266   \n\n                                         LearnCodeOnline  \\\n0      Technical documentation;Blogs;Programming Game...   \n1                                                    NaN   \n2                                                    NaN   \n3      Technical documentation;Blogs;Written Tutorial...   \n4      Technical documentation;Blogs;Written Tutorial...   \n...                                                  ...   \n38342  Technical documentation;Blogs;Written Tutorial...   \n38343  Technical documentation;Blogs;Programming Game...   \n38344  Technical documentation;Blogs;Written Tutorial...   \n38345  Technical documentation;Blogs;Written Tutorial...   \n38346                                                NaN   \n\n                                                 Country CompFreq  ResponseId  \\\n0      United Kingdom of Great Britain and Northern I...   Yearly           3   \n1                                                 Israel  Monthly           4   \n2                                            Netherlands   Yearly           9   \n3      United Kingdom of Great Britain and Northern I...   Yearly          11   \n4                               United States of America   Yearly          12   \n...                                                  ...      ...         ...   \n38342                                             Poland  Monthly       73260   \n38343                                             France   Yearly       73262   \n38344                                            Nigeria   Yearly       73264   \n38345                           United States of America   Yearly       73265   \n38346  United Kingdom of Great Britain and Northern I...   Yearly       73267   \n\n                                        CodingActivities YearsCode  \\\n0                                                  Hobby        14   \n1                           I don’t code outside of work        20   \n2                           I don’t code outside of work         6   \n3                           I don’t code outside of work         5   \n4      Hobby;Contribute to open-source projects;Freel...        12   \n...                                                  ...       ...   \n38342                            Other (please specify):         6   \n38343                                              Hobby         9   \n38344                            Freelance/contract work         8   \n38345                                              Hobby         6   \n38346                                              Hobby        50   \n\n      YearsCodePro                                          EdLevel  \\\n0                5  Master’s degree (M.A., M.S., M.Eng., MBA, etc.)   \n1               17     Bachelor’s degree (B.A., B.S., B.Eng., etc.)   \n2                6  Master’s degree (M.A., M.S., M.Eng., MBA, etc.)   \n3                2     Bachelor’s degree (B.A., B.S., B.Eng., etc.)   \n4               10     Bachelor’s degree (B.A., B.S., B.Eng., etc.)   \n...            ...                                              ...   \n38342            2  Master’s degree (M.A., M.S., M.Eng., MBA, etc.)   \n38343            2  Master’s degree (M.A., M.S., M.Eng., MBA, etc.)   \n38344            5     Bachelor’s degree (B.A., B.S., B.Eng., etc.)   \n38345            5  Master’s degree (M.A., M.S., M.Eng., MBA, etc.)   \n38346           31     Bachelor’s degree (B.A., B.S., B.Eng., etc.)   \n\n                                              MainBranch  \\\n0      I am not primarily a developer, but I write co...   \n1                         I am a developer by profession   \n2                         I am a developer by profession   \n3                         I am a developer by profession   \n4      I am not primarily a developer, but I write co...   \n...                                                  ...   \n38342                     I am a developer by profession   \n38343                     I am a developer by profession   \n38344                     I am a developer by profession   \n38345                     I am a developer by profession   \n38346                     I am a developer by profession   \n\n                                               LearnCode  AnualComp  \\\n0      Books / Physical media;Friend or family member...    32000.0   \n1      Books / Physical media;School (i.e., Universit...   720000.0   \n2                    On the job training;Coding Bootcamp    46000.0   \n3      Books / Physical media;Friend or family member...    48000.0   \n4      Other online resources (e.g., videos, blogs, f...   194400.0   \n...                                                  ...        ...   \n38342  Books / Physical media;Other online resources ...    96000.0   \n38343  Books / Physical media;Other online resources ...    36000.0   \n38344  Books / Physical media;Other online resources ...    60000.0   \n38345  Other online resources (e.g., videos, blogs, f...   107000.0   \n38346         Books / Physical media;On the job training    58500.0   \n\n      CurrencyCode  ExchangeRate  \n0              GBP           NaN  \n1              ILS        3.2909  \n2              EUR        0.9882  \n3              GBP           NaN  \n4              USD        1.0000  \n...            ...           ...  \n38342          PLN        4.6613  \n38343          EUR        0.9882  \n38344          USD        1.0000  \n38345          USD        1.0000  \n38346          GBP           NaN  \n\n[38347 rows x 20 columns]",
      "text/html": "<div>\n<style scoped>\n    .dataframe tbody tr th:only-of-type {\n        vertical-align: middle;\n    }\n\n    .dataframe tbody tr th {\n        vertical-align: top;\n    }\n\n    .dataframe thead th {\n        text-align: right;\n    }\n</style>\n<table border=\"1\" class=\"dataframe\">\n  <thead>\n    <tr style=\"text-align: right;\">\n      <th></th>\n      <th>Gender</th>\n      <th>Currency</th>\n      <th>Age</th>\n      <th>DevType</th>\n      <th>CompTotal</th>\n      <th>LearnCodeCoursesCert</th>\n      <th>Unnamed: 0</th>\n      <th>LearnCodeOnline</th>\n      <th>Country</th>\n      <th>CompFreq</th>\n      <th>ResponseId</th>\n      <th>CodingActivities</th>\n      <th>YearsCode</th>\n      <th>YearsCodePro</th>\n      <th>EdLevel</th>\n      <th>MainBranch</th>\n      <th>LearnCode</th>\n      <th>AnualComp</th>\n      <th>CurrencyCode</th>\n      <th>ExchangeRate</th>\n    </tr>\n  </thead>\n  <tbody>\n    <tr>\n      <th>0</th>\n      <td>Man</td>\n      <td>GBP\tPound sterling</td>\n      <td>25-34 years old</td>\n      <td>Data scientist or machine learning specialist;...</td>\n      <td>32000.0</td>\n      <td>NaN</td>\n      <td>2</td>\n      <td>Technical documentation;Blogs;Programming Game...</td>\n      <td>United Kingdom of Great Britain and Northern I...</td>\n      <td>Yearly</td>\n      <td>3</td>\n      <td>Hobby</td>\n      <td>14</td>\n      <td>5</td>\n      <td>Master’s degree (M.A., M.S., M.Eng., MBA, etc.)</td>\n      <td>I am not primarily a developer, but I write co...</td>\n      <td>Books / Physical media;Friend or family member...</td>\n      <td>32000.0</td>\n      <td>GBP</td>\n      <td>NaN</td>\n    </tr>\n    <tr>\n      <th>1</th>\n      <td>Man</td>\n      <td>ILS\tIsraeli new shekel</td>\n      <td>35-44 years old</td>\n      <td>Developer, full-stack</td>\n      <td>60000.0</td>\n      <td>NaN</td>\n      <td>3</td>\n      <td>NaN</td>\n      <td>Israel</td>\n      <td>Monthly</td>\n      <td>4</td>\n      <td>I don’t code outside of work</td>\n      <td>20</td>\n      <td>17</td>\n      <td>Bachelor’s degree (B.A., B.S., B.Eng., etc.)</td>\n      <td>I am a developer by profession</td>\n      <td>Books / Physical media;School (i.e., Universit...</td>\n      <td>720000.0</td>\n      <td>ILS</td>\n      <td>3.2909</td>\n    </tr>\n    <tr>\n      <th>2</th>\n      <td>Woman</td>\n      <td>EUR European Euro</td>\n      <td>25-34 years old</td>\n      <td>Developer, back-end</td>\n      <td>46000.0</td>\n      <td>NaN</td>\n      <td>8</td>\n      <td>NaN</td>\n      <td>Netherlands</td>\n      <td>Yearly</td>\n      <td>9</td>\n      <td>I don’t code outside of work</td>\n      <td>6</td>\n      <td>6</td>\n      <td>Master’s degree (M.A., M.S., M.Eng., MBA, etc.)</td>\n      <td>I am a developer by profession</td>\n      <td>On the job training;Coding Bootcamp</td>\n      <td>46000.0</td>\n      <td>EUR</td>\n      <td>0.9882</td>\n    </tr>\n    <tr>\n      <th>3</th>\n      <td>Man</td>\n      <td>GBP\tPound sterling</td>\n      <td>18-24 years old</td>\n      <td>Developer, full-stack;Developer, back-end</td>\n      <td>48000.0</td>\n      <td>NaN</td>\n      <td>10</td>\n      <td>Technical documentation;Blogs;Written Tutorial...</td>\n      <td>United Kingdom of Great Britain and Northern I...</td>\n      <td>Yearly</td>\n      <td>11</td>\n      <td>I don’t code outside of work</td>\n      <td>5</td>\n      <td>2</td>\n      <td>Bachelor’s degree (B.A., B.S., B.Eng., etc.)</td>\n      <td>I am a developer by profession</td>\n      <td>Books / Physical media;Friend or family member...</td>\n      <td>48000.0</td>\n      <td>GBP</td>\n      <td>NaN</td>\n    </tr>\n    <tr>\n      <th>4</th>\n      <td>Man</td>\n      <td>USD\tUnited States dollar</td>\n      <td>35-44 years old</td>\n      <td>Engineering manager</td>\n      <td>194400.0</td>\n      <td>NaN</td>\n      <td>11</td>\n      <td>Technical documentation;Blogs;Written Tutorial...</td>\n      <td>United States of America</td>\n      <td>Yearly</td>\n      <td>12</td>\n      <td>Hobby;Contribute to open-source projects;Freel...</td>\n      <td>12</td>\n      <td>10</td>\n      <td>Bachelor’s degree (B.A., B.S., B.Eng., etc.)</td>\n      <td>I am not primarily a developer, but I write co...</td>\n      <td>Other online resources (e.g., videos, blogs, f...</td>\n      <td>194400.0</td>\n      <td>USD</td>\n      <td>1.0000</td>\n    </tr>\n    <tr>\n      <th>...</th>\n      <td>...</td>\n      <td>...</td>\n      <td>...</td>\n      <td>...</td>\n      <td>...</td>\n      <td>...</td>\n      <td>...</td>\n      <td>...</td>\n      <td>...</td>\n      <td>...</td>\n      <td>...</td>\n      <td>...</td>\n      <td>...</td>\n      <td>...</td>\n      <td>...</td>\n      <td>...</td>\n      <td>...</td>\n      <td>...</td>\n      <td>...</td>\n      <td>...</td>\n    </tr>\n    <tr>\n      <th>38342</th>\n      <td>Man</td>\n      <td>PLN\tPolish zloty</td>\n      <td>25-34 years old</td>\n      <td>Developer, back-end</td>\n      <td>8000.0</td>\n      <td>NaN</td>\n      <td>73259</td>\n      <td>Technical documentation;Blogs;Written Tutorial...</td>\n      <td>Poland</td>\n      <td>Monthly</td>\n      <td>73260</td>\n      <td>Other (please specify):</td>\n      <td>6</td>\n      <td>2</td>\n      <td>Master’s degree (M.A., M.S., M.Eng., MBA, etc.)</td>\n      <td>I am a developer by profession</td>\n      <td>Books / Physical media;Other online resources ...</td>\n      <td>96000.0</td>\n      <td>PLN</td>\n      <td>4.6613</td>\n    </tr>\n    <tr>\n      <th>38343</th>\n      <td>Man</td>\n      <td>EUR European Euro</td>\n      <td>18-24 years old</td>\n      <td>Developer, full-stack</td>\n      <td>36000.0</td>\n      <td>Udemy;Codecademy;Pluralsight</td>\n      <td>73261</td>\n      <td>Technical documentation;Blogs;Programming Game...</td>\n      <td>France</td>\n      <td>Yearly</td>\n      <td>73262</td>\n      <td>Hobby</td>\n      <td>9</td>\n      <td>2</td>\n      <td>Master’s degree (M.A., M.S., M.Eng., MBA, etc.)</td>\n      <td>I am a developer by profession</td>\n      <td>Books / Physical media;Other online resources ...</td>\n      <td>36000.0</td>\n      <td>EUR</td>\n      <td>0.9882</td>\n    </tr>\n    <tr>\n      <th>38344</th>\n      <td>Man</td>\n      <td>USD\tUnited States dollar</td>\n      <td>25-34 years old</td>\n      <td>Developer, back-end</td>\n      <td>60000.0</td>\n      <td>Udemy</td>\n      <td>73263</td>\n      <td>Technical documentation;Blogs;Written Tutorial...</td>\n      <td>Nigeria</td>\n      <td>Yearly</td>\n      <td>73264</td>\n      <td>Freelance/contract work</td>\n      <td>8</td>\n      <td>5</td>\n      <td>Bachelor’s degree (B.A., B.S., B.Eng., etc.)</td>\n      <td>I am a developer by profession</td>\n      <td>Books / Physical media;Other online resources ...</td>\n      <td>60000.0</td>\n      <td>USD</td>\n      <td>1.0000</td>\n    </tr>\n    <tr>\n      <th>38345</th>\n      <td>Man</td>\n      <td>USD\tUnited States dollar</td>\n      <td>25-34 years old</td>\n      <td>Data scientist or machine learning specialist</td>\n      <td>107000.0</td>\n      <td>Coursera;Udemy;Udacity</td>\n      <td>73264</td>\n      <td>Technical documentation;Blogs;Written Tutorial...</td>\n      <td>United States of America</td>\n      <td>Yearly</td>\n      <td>73265</td>\n      <td>Hobby</td>\n      <td>6</td>\n      <td>5</td>\n      <td>Master’s degree (M.A., M.S., M.Eng., MBA, etc.)</td>\n      <td>I am a developer by profession</td>\n      <td>Other online resources (e.g., videos, blogs, f...</td>\n      <td>107000.0</td>\n      <td>USD</td>\n      <td>1.0000</td>\n    </tr>\n    <tr>\n      <th>38346</th>\n      <td>Man</td>\n      <td>GBP\tPound sterling</td>\n      <td>55-64 years old</td>\n      <td>Developer, front-end;Developer, desktop or ent...</td>\n      <td>58500.0</td>\n      <td>NaN</td>\n      <td>73266</td>\n      <td>NaN</td>\n      <td>United Kingdom of Great Britain and Northern I...</td>\n      <td>Yearly</td>\n      <td>73267</td>\n      <td>Hobby</td>\n      <td>50</td>\n      <td>31</td>\n      <td>Bachelor’s degree (B.A., B.S., B.Eng., etc.)</td>\n      <td>I am a developer by profession</td>\n      <td>Books / Physical media;On the job training</td>\n      <td>58500.0</td>\n      <td>GBP</td>\n      <td>NaN</td>\n    </tr>\n  </tbody>\n</table>\n<p>38347 rows × 20 columns</p>\n</div>"
     },
     "execution_count": 21,
     "metadata": {},
     "output_type": "execute_result"
    }
   ],
   "source": [
    "df_copy = df_copy.merge(final_curr, on= 'CurrencyCode', how = 'left')\n",
    "df_copy"
   ],
   "metadata": {
    "collapsed": false,
    "pycharm": {
     "name": "#%%\n"
    }
   }
  },
  {
   "cell_type": "code",
   "execution_count": 118,
   "outputs": [
    {
     "data": {
      "text/plain": "['GBP',\n 'CZK',\n 'TWD',\n 'RUB',\n 'VND',\n 'BAM',\n 'IMP',\n 'IRR',\n 'PHP',\n 'AED',\n 'KRW',\n 'MNT',\n 'MKD',\n 'TZS',\n 'MDL',\n 'MMK',\n 'DOP',\n 'KYD',\n 'BOB',\n 'LAK',\n 'SYP',\n 'SDG',\n 'VES',\n 'TTD']"
     },
     "execution_count": 118,
     "metadata": {},
     "output_type": "execute_result"
    }
   ],
   "source": [
    "non_curr_list = list(df_copy[df_copy['ExchangeRate'].isnull()]['CurrencyCode'].unique())\n",
    "# print(len(non_curr_list))\n",
    "non_curr_list"
   ],
   "metadata": {
    "collapsed": false,
    "pycharm": {
     "name": "#%%\n"
    }
   }
  },
  {
   "cell_type": "code",
   "execution_count": 62,
   "outputs": [
    {
     "name": "stdout",
     "output_type": "stream",
     "text": [
      "(266, 4)\n"
     ]
    }
   ],
   "source": [
    "curr_code.dropna(axis=0, inplace=True)\n",
    "print(curr_code.shape)"
   ],
   "metadata": {
    "collapsed": false,
    "pycharm": {
     "name": "#%%\n"
    }
   }
  },
  {
   "cell_type": "code",
   "execution_count": 82,
   "outputs": [
    {
     "data": {
      "text/plain": "         Country  Latest available value Reference date Change three months  \\\n0    Afghanistan                 89.4182     2022-08-22               1.45%   \n1        Albania                115.5465     2022-08-22               1.32%   \n2        Algeria                142.6180     2022-08-22              -2.03%   \n3        Andorra                  0.9882     2022-08-22               4.51%   \n4         Angola                429.5054     2022-08-22               4.34%   \n..           ...                     ...            ...                 ...   \n186   Uzbekistan              10938.6159     2022-08-22              -1.59%   \n187      Vanuatu                109.4335     2022-06-18              -0.00%   \n188      Vietnam              23405.3405     2022-08-22               1.37%   \n189        Yemen               1239.0000     2022-08-22               0.00%   \n190       Zambia                 16.1093     2022-08-22              -5.59%   \n\n    Change twelve months  \n0                 11.55%  \n1                 11.99%  \n2                  5.46%  \n3                 16.30%  \n4                -32.65%  \n..                   ...  \n186                2.70%  \n187               -0.63%  \n188                2.32%  \n189              395.27%  \n190              -14.36%  \n\n[191 rows x 5 columns]",
      "text/html": "<div>\n<style scoped>\n    .dataframe tbody tr th:only-of-type {\n        vertical-align: middle;\n    }\n\n    .dataframe tbody tr th {\n        vertical-align: top;\n    }\n\n    .dataframe thead th {\n        text-align: right;\n    }\n</style>\n<table border=\"1\" class=\"dataframe\">\n  <thead>\n    <tr style=\"text-align: right;\">\n      <th></th>\n      <th>Country</th>\n      <th>Latest available value</th>\n      <th>Reference date</th>\n      <th>Change three months</th>\n      <th>Change twelve months</th>\n    </tr>\n  </thead>\n  <tbody>\n    <tr>\n      <th>0</th>\n      <td>Afghanistan</td>\n      <td>89.4182</td>\n      <td>2022-08-22</td>\n      <td>1.45%</td>\n      <td>11.55%</td>\n    </tr>\n    <tr>\n      <th>1</th>\n      <td>Albania</td>\n      <td>115.5465</td>\n      <td>2022-08-22</td>\n      <td>1.32%</td>\n      <td>11.99%</td>\n    </tr>\n    <tr>\n      <th>2</th>\n      <td>Algeria</td>\n      <td>142.6180</td>\n      <td>2022-08-22</td>\n      <td>-2.03%</td>\n      <td>5.46%</td>\n    </tr>\n    <tr>\n      <th>3</th>\n      <td>Andorra</td>\n      <td>0.9882</td>\n      <td>2022-08-22</td>\n      <td>4.51%</td>\n      <td>16.30%</td>\n    </tr>\n    <tr>\n      <th>4</th>\n      <td>Angola</td>\n      <td>429.5054</td>\n      <td>2022-08-22</td>\n      <td>4.34%</td>\n      <td>-32.65%</td>\n    </tr>\n    <tr>\n      <th>...</th>\n      <td>...</td>\n      <td>...</td>\n      <td>...</td>\n      <td>...</td>\n      <td>...</td>\n    </tr>\n    <tr>\n      <th>186</th>\n      <td>Uzbekistan</td>\n      <td>10938.6159</td>\n      <td>2022-08-22</td>\n      <td>-1.59%</td>\n      <td>2.70%</td>\n    </tr>\n    <tr>\n      <th>187</th>\n      <td>Vanuatu</td>\n      <td>109.4335</td>\n      <td>2022-06-18</td>\n      <td>-0.00%</td>\n      <td>-0.63%</td>\n    </tr>\n    <tr>\n      <th>188</th>\n      <td>Vietnam</td>\n      <td>23405.3405</td>\n      <td>2022-08-22</td>\n      <td>1.37%</td>\n      <td>2.32%</td>\n    </tr>\n    <tr>\n      <th>189</th>\n      <td>Yemen</td>\n      <td>1239.0000</td>\n      <td>2022-08-22</td>\n      <td>0.00%</td>\n      <td>395.27%</td>\n    </tr>\n    <tr>\n      <th>190</th>\n      <td>Zambia</td>\n      <td>16.1093</td>\n      <td>2022-08-22</td>\n      <td>-5.59%</td>\n      <td>-14.36%</td>\n    </tr>\n  </tbody>\n</table>\n<p>191 rows × 5 columns</p>\n</div>"
     },
     "execution_count": 82,
     "metadata": {},
     "output_type": "execute_result"
    }
   ],
   "source": [
    "curr_rate"
   ],
   "metadata": {
    "collapsed": false,
    "pycharm": {
     "name": "#%%\n"
    }
   }
  },
  {
   "cell_type": "code",
   "execution_count": 80,
   "outputs": [
    {
     "data": {
      "text/plain": "26                      Bolivia (Plurinational State Of)\n29                                Bosnia And Herzegovina\n42                                  Cayman Islands (The)\n62                                  Czech Republic (The)\n67                              Dominican Republic (The)\n97                                              Guernsey\n112                           Iran (Islamic Republic Of)\n115                                          Isle Of Man\n120                                               Jersey\n126                              Korea (The Republic Of)\n129               Lao People’S Democratic Republic (The)\n155                            Moldova (The Republic Of)\n157                                             Mongolia\n162                                              Myanmar\n186                                    Philippines (The)\n192                          Republic Of North Macedonia\n194                             Russian Federation (The)\n224                                          Sudan (The)\n232                                 Syrian Arab Republic\n233                           Taiwan (Province Of China)\n235                         Tanzania, United Republic Of\n241                                  Trinidad And Tobago\n249                           United Arab Emirates (The)\n250    United Kingdom Of Great Britain And Northern I...\n260                                             Viet Nam\nName: Country, dtype: object"
     },
     "execution_count": 80,
     "metadata": {},
     "output_type": "execute_result"
    }
   ],
   "source": [
    "list_country = curr_code.loc[curr_code['Code'].isin(non_curr_list), 'Country']\n",
    "list_country"
   ],
   "metadata": {
    "collapsed": false,
    "pycharm": {
     "name": "#%%\n"
    }
   }
  },
  {
   "cell_type": "code",
   "execution_count": 89,
   "outputs": [
    {
     "data": {
      "text/plain": "                             Country  Latest available value Reference date  \\\n22  Bolivia (Plurinational State Of)                  6.8991     2022-08-22   \n\n   Change three months Change twelve months  \n22               0.41%               -0.02%  ",
      "text/html": "<div>\n<style scoped>\n    .dataframe tbody tr th:only-of-type {\n        vertical-align: middle;\n    }\n\n    .dataframe tbody tr th {\n        vertical-align: top;\n    }\n\n    .dataframe thead th {\n        text-align: right;\n    }\n</style>\n<table border=\"1\" class=\"dataframe\">\n  <thead>\n    <tr style=\"text-align: right;\">\n      <th></th>\n      <th>Country</th>\n      <th>Latest available value</th>\n      <th>Reference date</th>\n      <th>Change three months</th>\n      <th>Change twelve months</th>\n    </tr>\n  </thead>\n  <tbody>\n    <tr>\n      <th>22</th>\n      <td>Bolivia (Plurinational State Of)</td>\n      <td>6.8991</td>\n      <td>2022-08-22</td>\n      <td>0.41%</td>\n      <td>-0.02%</td>\n    </tr>\n  </tbody>\n</table>\n</div>"
     },
     "execution_count": 89,
     "metadata": {},
     "output_type": "execute_result"
    }
   ],
   "source": [
    "curr_rate[curr_rate['Country'] == 'Bolivia (Plurinational State Of)']"
   ],
   "metadata": {
    "collapsed": false,
    "pycharm": {
     "name": "#%%\n"
    }
   }
  },
  {
   "cell_type": "markdown",
   "source": [
    "Guernsey\n",
    "Cayman Islands (The)\n",
    "Isle Of Man\n",
    "Jersey\n",
    "Mongolia\n",
    "Myanmar"
   ],
   "metadata": {
    "collapsed": false,
    "pycharm": {
     "name": "#%% md\n"
    }
   }
  },
  {
   "cell_type": "code",
   "execution_count": 90,
   "outputs": [],
   "source": [
    "curr_rate.replace(to_replace='Bosnia and Herzegovina',value='Bosnia And Herzegovina', inplace=True)\n",
    "curr_rate.replace(to_replace='Czechia',value='Czech Republic (The)', inplace=True)\n",
    "curr_rate.replace(to_replace='Iran',value='Iran (Islamic Republic Of)', inplace=True)\n",
    "curr_rate.replace(to_replace='Laos',value='Lao People’S Democratic Republic (The)', inplace=True)\n",
    "curr_rate.replace(to_replace='Moldova',value='Moldova (The Republic Of)', inplace=True)\n",
    "curr_rate.replace(to_replace='Philippines',value='Philippines (The)', inplace=True)\n",
    "curr_rate.replace(to_replace='South Korea',value='Korea (The Republic Of)', inplace=True)\n",
    "curr_rate.replace(to_replace='Russia',value='Russian Federation (The)', inplace=True)\n",
    "curr_rate.replace(to_replace='Sudan',value='Sudan (The)', inplace=True)\n",
    "curr_rate.replace(to_replace='Syria',value='Syrian Arab Republic', inplace=True)\n",
    "curr_rate.replace(to_replace='Taiwan',value='Taiwan (Province Of China)', inplace=True)\n",
    "curr_rate.replace(to_replace='Tanzania',value='Tanzania, United Republic Of', inplace=True)\n",
    "curr_rate.replace(to_replace='Trinidad and Tobago',value='Trinidad And Tobago', inplace=True)\n",
    "curr_rate.replace(to_replace='United Arab Emirates',value='United Arab Emirates (The)', inplace=True)\n",
    "curr_rate.replace(to_replace='United Kingdom',value='United Kingdom Of Great Britain And Northern Ireland (The)', inplace=True)\n",
    "curr_rate.replace(to_replace='Vietnam',value='Viet Nam', inplace=True)"
   ],
   "metadata": {
    "collapsed": false,
    "pycharm": {
     "name": "#%%\n"
    }
   }
  },
  {
   "cell_type": "code",
   "execution_count": 95,
   "outputs": [
    {
     "data": {
      "text/plain": "         Country  Latest available value Reference date Change three months  \\\n0    Afghanistan                 89.4182     2022-08-22               1.45%   \n1        Albania                115.5465     2022-08-22               1.32%   \n2        Algeria                142.6180     2022-08-22              -2.03%   \n3        Andorra                  0.9882     2022-08-22               4.51%   \n4         Angola                429.5054     2022-08-22               4.34%   \n..           ...                     ...            ...                 ...   \n178   Uzbekistan              10938.6159     2022-08-22              -1.59%   \n179      Vanuatu                109.4335     2022-06-18              -0.00%   \n180     Viet Nam              23405.3405     2022-08-22               1.37%   \n181        Yemen               1239.0000     2022-08-22               0.00%   \n182       Zambia                 16.1093     2022-08-22              -5.59%   \n\n    Change twelve months        Currency Code  Number  \n0                 11.55%         Afghani  AFN   971.0  \n1                 11.99%             Lek  ALL     8.0  \n2                  5.46%  Algerian Dinar  DZD    12.0  \n3                 16.30%            Euro  EUR   978.0  \n4                -32.65%          Kwanza  AOA   973.0  \n..                   ...             ...  ...     ...  \n178                2.70%  Uzbekistan Sum  UZS   860.0  \n179               -0.63%            Vatu  VUV   548.0  \n180                2.32%            Dong  VND   704.0  \n181              395.27%     Yemeni Rial  YER   886.0  \n182              -14.36%  Zambian Kwacha  ZMW   967.0  \n\n[183 rows x 8 columns]",
      "text/html": "<div>\n<style scoped>\n    .dataframe tbody tr th:only-of-type {\n        vertical-align: middle;\n    }\n\n    .dataframe tbody tr th {\n        vertical-align: top;\n    }\n\n    .dataframe thead th {\n        text-align: right;\n    }\n</style>\n<table border=\"1\" class=\"dataframe\">\n  <thead>\n    <tr style=\"text-align: right;\">\n      <th></th>\n      <th>Country</th>\n      <th>Latest available value</th>\n      <th>Reference date</th>\n      <th>Change three months</th>\n      <th>Change twelve months</th>\n      <th>Currency</th>\n      <th>Code</th>\n      <th>Number</th>\n    </tr>\n  </thead>\n  <tbody>\n    <tr>\n      <th>0</th>\n      <td>Afghanistan</td>\n      <td>89.4182</td>\n      <td>2022-08-22</td>\n      <td>1.45%</td>\n      <td>11.55%</td>\n      <td>Afghani</td>\n      <td>AFN</td>\n      <td>971.0</td>\n    </tr>\n    <tr>\n      <th>1</th>\n      <td>Albania</td>\n      <td>115.5465</td>\n      <td>2022-08-22</td>\n      <td>1.32%</td>\n      <td>11.99%</td>\n      <td>Lek</td>\n      <td>ALL</td>\n      <td>8.0</td>\n    </tr>\n    <tr>\n      <th>2</th>\n      <td>Algeria</td>\n      <td>142.6180</td>\n      <td>2022-08-22</td>\n      <td>-2.03%</td>\n      <td>5.46%</td>\n      <td>Algerian Dinar</td>\n      <td>DZD</td>\n      <td>12.0</td>\n    </tr>\n    <tr>\n      <th>3</th>\n      <td>Andorra</td>\n      <td>0.9882</td>\n      <td>2022-08-22</td>\n      <td>4.51%</td>\n      <td>16.30%</td>\n      <td>Euro</td>\n      <td>EUR</td>\n      <td>978.0</td>\n    </tr>\n    <tr>\n      <th>4</th>\n      <td>Angola</td>\n      <td>429.5054</td>\n      <td>2022-08-22</td>\n      <td>4.34%</td>\n      <td>-32.65%</td>\n      <td>Kwanza</td>\n      <td>AOA</td>\n      <td>973.0</td>\n    </tr>\n    <tr>\n      <th>...</th>\n      <td>...</td>\n      <td>...</td>\n      <td>...</td>\n      <td>...</td>\n      <td>...</td>\n      <td>...</td>\n      <td>...</td>\n      <td>...</td>\n    </tr>\n    <tr>\n      <th>178</th>\n      <td>Uzbekistan</td>\n      <td>10938.6159</td>\n      <td>2022-08-22</td>\n      <td>-1.59%</td>\n      <td>2.70%</td>\n      <td>Uzbekistan Sum</td>\n      <td>UZS</td>\n      <td>860.0</td>\n    </tr>\n    <tr>\n      <th>179</th>\n      <td>Vanuatu</td>\n      <td>109.4335</td>\n      <td>2022-06-18</td>\n      <td>-0.00%</td>\n      <td>-0.63%</td>\n      <td>Vatu</td>\n      <td>VUV</td>\n      <td>548.0</td>\n    </tr>\n    <tr>\n      <th>180</th>\n      <td>Viet Nam</td>\n      <td>23405.3405</td>\n      <td>2022-08-22</td>\n      <td>1.37%</td>\n      <td>2.32%</td>\n      <td>Dong</td>\n      <td>VND</td>\n      <td>704.0</td>\n    </tr>\n    <tr>\n      <th>181</th>\n      <td>Yemen</td>\n      <td>1239.0000</td>\n      <td>2022-08-22</td>\n      <td>0.00%</td>\n      <td>395.27%</td>\n      <td>Yemeni Rial</td>\n      <td>YER</td>\n      <td>886.0</td>\n    </tr>\n    <tr>\n      <th>182</th>\n      <td>Zambia</td>\n      <td>16.1093</td>\n      <td>2022-08-22</td>\n      <td>-5.59%</td>\n      <td>-14.36%</td>\n      <td>Zambian Kwacha</td>\n      <td>ZMW</td>\n      <td>967.0</td>\n    </tr>\n  </tbody>\n</table>\n<p>183 rows × 8 columns</p>\n</div>"
     },
     "execution_count": 95,
     "metadata": {},
     "output_type": "execute_result"
    }
   ],
   "source": [
    "curr_df = curr_rate.merge(curr_code, on='Country', how = 'inner')\n",
    "curr_df"
   ],
   "metadata": {
    "collapsed": false,
    "pycharm": {
     "name": "#%%\n"
    }
   }
  },
  {
   "cell_type": "code",
   "execution_count": 101,
   "outputs": [
    {
     "name": "stderr",
     "output_type": "stream",
     "text": [
      "/var/folders/tr/xn8v7xg16210g483rgngckhm0000gn/T/ipykernel_2632/4076153086.py:3: SettingWithCopyWarning: \n",
      "A value is trying to be set on a copy of a slice from a DataFrame\n",
      "\n",
      "See the caveats in the documentation: https://pandas.pydata.org/pandas-docs/stable/user_guide/indexing.html#returning-a-view-versus-a-copy\n",
      "  final_curr.drop_duplicates(inplace = True)\n"
     ]
    },
    {
     "data": {
      "text/plain": "    CurrencyCode  ExchangeRate\n67           USD      125.2860\n91           ZAR       16.7093\n115          ZAR       16.4563\n126          USD        1.0001\n149          ZAR       16.7067",
      "text/html": "<div>\n<style scoped>\n    .dataframe tbody tr th:only-of-type {\n        vertical-align: middle;\n    }\n\n    .dataframe tbody tr th {\n        vertical-align: top;\n    }\n\n    .dataframe thead th {\n        text-align: right;\n    }\n</style>\n<table border=\"1\" class=\"dataframe\">\n  <thead>\n    <tr style=\"text-align: right;\">\n      <th></th>\n      <th>CurrencyCode</th>\n      <th>ExchangeRate</th>\n    </tr>\n  </thead>\n  <tbody>\n    <tr>\n      <th>67</th>\n      <td>USD</td>\n      <td>125.2860</td>\n    </tr>\n    <tr>\n      <th>91</th>\n      <td>ZAR</td>\n      <td>16.7093</td>\n    </tr>\n    <tr>\n      <th>115</th>\n      <td>ZAR</td>\n      <td>16.4563</td>\n    </tr>\n    <tr>\n      <th>126</th>\n      <td>USD</td>\n      <td>1.0001</td>\n    </tr>\n    <tr>\n      <th>149</th>\n      <td>ZAR</td>\n      <td>16.7067</td>\n    </tr>\n  </tbody>\n</table>\n</div>"
     },
     "execution_count": 101,
     "metadata": {},
     "output_type": "execute_result"
    }
   ],
   "source": [
    "curr_df.rename(columns={'Code':'CurrencyCode', 'Latest available value':'ExchangeRate'}, inplace = True)\n",
    "final_curr = curr_df[['CurrencyCode','ExchangeRate']]"
   ],
   "metadata": {
    "collapsed": false,
    "pycharm": {
     "name": "#%%\n"
    }
   }
  },
  {
   "cell_type": "code",
   "execution_count": 104,
   "outputs": [
    {
     "name": "stderr",
     "output_type": "stream",
     "text": [
      "/var/folders/tr/xn8v7xg16210g483rgngckhm0000gn/T/ipykernel_2632/229119862.py:3: SettingWithCopyWarning: \n",
      "A value is trying to be set on a copy of a slice from a DataFrame\n",
      "\n",
      "See the caveats in the documentation: https://pandas.pydata.org/pandas-docs/stable/user_guide/indexing.html#returning-a-view-versus-a-copy\n",
      "  final_curr.drop_duplicates(inplace=True)\n"
     ]
    }
   ],
   "source": [
    "final_curr.loc[final_curr['CurrencyCode'] == 'ZAR', 'ExchangeRate'] = final_curr[final_curr['CurrencyCode'] == 'ZAR']['ExchangeRate'].mean()\n",
    "final_curr.loc[final_curr['CurrencyCode'] == 'USD', 'ExchangeRate'] = 1\n",
    "final_curr.drop_duplicates(inplace=True)"
   ],
   "metadata": {
    "collapsed": false,
    "pycharm": {
     "name": "#%%\n"
    }
   }
  },
  {
   "cell_type": "code",
   "execution_count": 107,
   "outputs": [
    {
     "name": "stderr",
     "output_type": "stream",
     "text": [
      "/var/folders/tr/xn8v7xg16210g483rgngckhm0000gn/T/ipykernel_2632/3221903920.py:2: SettingWithCopyWarning: \n",
      "A value is trying to be set on a copy of a slice from a DataFrame.\n",
      "Try using .loc[row_indexer,col_indexer] = value instead\n",
      "\n",
      "See the caveats in the documentation: https://pandas.pydata.org/pandas-docs/stable/user_guide/indexing.html#returning-a-view-versus-a-copy\n",
      "  df['Currency'] = df['Currency'].astype('string')\n",
      "/var/folders/tr/xn8v7xg16210g483rgngckhm0000gn/T/ipykernel_2632/3221903920.py:3: SettingWithCopyWarning: \n",
      "A value is trying to be set on a copy of a slice from a DataFrame.\n",
      "Try using .loc[row_indexer,col_indexer] = value instead\n",
      "\n",
      "See the caveats in the documentation: https://pandas.pydata.org/pandas-docs/stable/user_guide/indexing.html#returning-a-view-versus-a-copy\n",
      "  df['CurrencyCode'] = np.nan\n"
     ]
    },
    {
     "data": {
      "text/plain": "      Gender                  Currency              Age  \\\n2        Man        GBP\tPound sterling  25-34 years old   \n3        Man    ILS\tIsraeli new shekel  35-44 years old   \n8      Woman         EUR European Euro  25-34 years old   \n10       Man        GBP\tPound sterling  18-24 years old   \n11       Man  USD\tUnited States dollar  35-44 years old   \n...      ...                       ...              ...   \n73259    Man          PLN\tPolish zloty  25-34 years old   \n73261    Man         EUR European Euro  18-24 years old   \n73263    Man  USD\tUnited States dollar  25-34 years old   \n73264    Man  USD\tUnited States dollar  25-34 years old   \n73266    Man        GBP\tPound sterling  55-64 years old   \n\n                                                 DevType  CompTotal  \\\n2      Data scientist or machine learning specialist;...    32000.0   \n3                                  Developer, full-stack    60000.0   \n8                                    Developer, back-end    46000.0   \n10             Developer, full-stack;Developer, back-end    48000.0   \n11                                   Engineering manager   194400.0   \n...                                                  ...        ...   \n73259                                Developer, back-end     8000.0   \n73261                              Developer, full-stack    36000.0   \n73263                                Developer, back-end    60000.0   \n73264      Data scientist or machine learning specialist   107000.0   \n73266  Developer, front-end;Developer, desktop or ent...    58500.0   \n\n               LearnCodeCoursesCert  Unnamed: 0  \\\n2                               NaN           2   \n3                               NaN           3   \n8                               NaN           8   \n10                              NaN          10   \n11                              NaN          11   \n...                             ...         ...   \n73259                           NaN       73259   \n73261  Udemy;Codecademy;Pluralsight       73261   \n73263                         Udemy       73263   \n73264        Coursera;Udemy;Udacity       73264   \n73266                           NaN       73266   \n\n                                         LearnCodeOnline  \\\n2      Technical documentation;Blogs;Programming Game...   \n3                                                    NaN   \n8                                                    NaN   \n10     Technical documentation;Blogs;Written Tutorial...   \n11     Technical documentation;Blogs;Written Tutorial...   \n...                                                  ...   \n73259  Technical documentation;Blogs;Written Tutorial...   \n73261  Technical documentation;Blogs;Programming Game...   \n73263  Technical documentation;Blogs;Written Tutorial...   \n73264  Technical documentation;Blogs;Written Tutorial...   \n73266                                                NaN   \n\n                                                 Country CompFreq  ResponseId  \\\n2      United Kingdom of Great Britain and Northern I...   Yearly           3   \n3                                                 Israel  Monthly           4   \n8                                            Netherlands   Yearly           9   \n10     United Kingdom of Great Britain and Northern I...   Yearly          11   \n11                              United States of America   Yearly          12   \n...                                                  ...      ...         ...   \n73259                                             Poland  Monthly       73260   \n73261                                             France   Yearly       73262   \n73263                                            Nigeria   Yearly       73264   \n73264                           United States of America   Yearly       73265   \n73266  United Kingdom of Great Britain and Northern I...   Yearly       73267   \n\n                                        CodingActivities YearsCode  \\\n2                                                  Hobby        14   \n3                           I don’t code outside of work        20   \n8                           I don’t code outside of work         6   \n10                          I don’t code outside of work         5   \n11     Hobby;Contribute to open-source projects;Freel...        12   \n...                                                  ...       ...   \n73259                            Other (please specify):         6   \n73261                                              Hobby         9   \n73263                            Freelance/contract work         8   \n73264                                              Hobby         6   \n73266                                              Hobby        50   \n\n      YearsCodePro                                          EdLevel  \\\n2                5  Master’s degree (M.A., M.S., M.Eng., MBA, etc.)   \n3               17     Bachelor’s degree (B.A., B.S., B.Eng., etc.)   \n8                6  Master’s degree (M.A., M.S., M.Eng., MBA, etc.)   \n10               2     Bachelor’s degree (B.A., B.S., B.Eng., etc.)   \n11              10     Bachelor’s degree (B.A., B.S., B.Eng., etc.)   \n...            ...                                              ...   \n73259            2  Master’s degree (M.A., M.S., M.Eng., MBA, etc.)   \n73261            2  Master’s degree (M.A., M.S., M.Eng., MBA, etc.)   \n73263            5     Bachelor’s degree (B.A., B.S., B.Eng., etc.)   \n73264            5  Master’s degree (M.A., M.S., M.Eng., MBA, etc.)   \n73266           31     Bachelor’s degree (B.A., B.S., B.Eng., etc.)   \n\n                                              MainBranch  \\\n2      I am not primarily a developer, but I write co...   \n3                         I am a developer by profession   \n8                         I am a developer by profession   \n10                        I am a developer by profession   \n11     I am not primarily a developer, but I write co...   \n...                                                  ...   \n73259                     I am a developer by profession   \n73261                     I am a developer by profession   \n73263                     I am a developer by profession   \n73264                     I am a developer by profession   \n73266                     I am a developer by profession   \n\n                                               LearnCode  AnualComp  \\\n2      Books / Physical media;Friend or family member...    32000.0   \n3      Books / Physical media;School (i.e., Universit...   720000.0   \n8                    On the job training;Coding Bootcamp    46000.0   \n10     Books / Physical media;Friend or family member...    48000.0   \n11     Other online resources (e.g., videos, blogs, f...   194400.0   \n...                                                  ...        ...   \n73259  Books / Physical media;Other online resources ...    96000.0   \n73261  Books / Physical media;Other online resources ...    36000.0   \n73263  Books / Physical media;Other online resources ...    60000.0   \n73264  Other online resources (e.g., videos, blogs, f...   107000.0   \n73266         Books / Physical media;On the job training    58500.0   \n\n      CurrencyCode  \n2              GBP  \n3              ILS  \n8              EUR  \n10             GBP  \n11             USD  \n...            ...  \n73259          PLN  \n73261          EUR  \n73263          USD  \n73264          USD  \n73266          GBP  \n\n[38347 rows x 19 columns]",
      "text/html": "<div>\n<style scoped>\n    .dataframe tbody tr th:only-of-type {\n        vertical-align: middle;\n    }\n\n    .dataframe tbody tr th {\n        vertical-align: top;\n    }\n\n    .dataframe thead th {\n        text-align: right;\n    }\n</style>\n<table border=\"1\" class=\"dataframe\">\n  <thead>\n    <tr style=\"text-align: right;\">\n      <th></th>\n      <th>Gender</th>\n      <th>Currency</th>\n      <th>Age</th>\n      <th>DevType</th>\n      <th>CompTotal</th>\n      <th>LearnCodeCoursesCert</th>\n      <th>Unnamed: 0</th>\n      <th>LearnCodeOnline</th>\n      <th>Country</th>\n      <th>CompFreq</th>\n      <th>ResponseId</th>\n      <th>CodingActivities</th>\n      <th>YearsCode</th>\n      <th>YearsCodePro</th>\n      <th>EdLevel</th>\n      <th>MainBranch</th>\n      <th>LearnCode</th>\n      <th>AnualComp</th>\n      <th>CurrencyCode</th>\n    </tr>\n  </thead>\n  <tbody>\n    <tr>\n      <th>2</th>\n      <td>Man</td>\n      <td>GBP\tPound sterling</td>\n      <td>25-34 years old</td>\n      <td>Data scientist or machine learning specialist;...</td>\n      <td>32000.0</td>\n      <td>NaN</td>\n      <td>2</td>\n      <td>Technical documentation;Blogs;Programming Game...</td>\n      <td>United Kingdom of Great Britain and Northern I...</td>\n      <td>Yearly</td>\n      <td>3</td>\n      <td>Hobby</td>\n      <td>14</td>\n      <td>5</td>\n      <td>Master’s degree (M.A., M.S., M.Eng., MBA, etc.)</td>\n      <td>I am not primarily a developer, but I write co...</td>\n      <td>Books / Physical media;Friend or family member...</td>\n      <td>32000.0</td>\n      <td>GBP</td>\n    </tr>\n    <tr>\n      <th>3</th>\n      <td>Man</td>\n      <td>ILS\tIsraeli new shekel</td>\n      <td>35-44 years old</td>\n      <td>Developer, full-stack</td>\n      <td>60000.0</td>\n      <td>NaN</td>\n      <td>3</td>\n      <td>NaN</td>\n      <td>Israel</td>\n      <td>Monthly</td>\n      <td>4</td>\n      <td>I don’t code outside of work</td>\n      <td>20</td>\n      <td>17</td>\n      <td>Bachelor’s degree (B.A., B.S., B.Eng., etc.)</td>\n      <td>I am a developer by profession</td>\n      <td>Books / Physical media;School (i.e., Universit...</td>\n      <td>720000.0</td>\n      <td>ILS</td>\n    </tr>\n    <tr>\n      <th>8</th>\n      <td>Woman</td>\n      <td>EUR European Euro</td>\n      <td>25-34 years old</td>\n      <td>Developer, back-end</td>\n      <td>46000.0</td>\n      <td>NaN</td>\n      <td>8</td>\n      <td>NaN</td>\n      <td>Netherlands</td>\n      <td>Yearly</td>\n      <td>9</td>\n      <td>I don’t code outside of work</td>\n      <td>6</td>\n      <td>6</td>\n      <td>Master’s degree (M.A., M.S., M.Eng., MBA, etc.)</td>\n      <td>I am a developer by profession</td>\n      <td>On the job training;Coding Bootcamp</td>\n      <td>46000.0</td>\n      <td>EUR</td>\n    </tr>\n    <tr>\n      <th>10</th>\n      <td>Man</td>\n      <td>GBP\tPound sterling</td>\n      <td>18-24 years old</td>\n      <td>Developer, full-stack;Developer, back-end</td>\n      <td>48000.0</td>\n      <td>NaN</td>\n      <td>10</td>\n      <td>Technical documentation;Blogs;Written Tutorial...</td>\n      <td>United Kingdom of Great Britain and Northern I...</td>\n      <td>Yearly</td>\n      <td>11</td>\n      <td>I don’t code outside of work</td>\n      <td>5</td>\n      <td>2</td>\n      <td>Bachelor’s degree (B.A., B.S., B.Eng., etc.)</td>\n      <td>I am a developer by profession</td>\n      <td>Books / Physical media;Friend or family member...</td>\n      <td>48000.0</td>\n      <td>GBP</td>\n    </tr>\n    <tr>\n      <th>11</th>\n      <td>Man</td>\n      <td>USD\tUnited States dollar</td>\n      <td>35-44 years old</td>\n      <td>Engineering manager</td>\n      <td>194400.0</td>\n      <td>NaN</td>\n      <td>11</td>\n      <td>Technical documentation;Blogs;Written Tutorial...</td>\n      <td>United States of America</td>\n      <td>Yearly</td>\n      <td>12</td>\n      <td>Hobby;Contribute to open-source projects;Freel...</td>\n      <td>12</td>\n      <td>10</td>\n      <td>Bachelor’s degree (B.A., B.S., B.Eng., etc.)</td>\n      <td>I am not primarily a developer, but I write co...</td>\n      <td>Other online resources (e.g., videos, blogs, f...</td>\n      <td>194400.0</td>\n      <td>USD</td>\n    </tr>\n    <tr>\n      <th>...</th>\n      <td>...</td>\n      <td>...</td>\n      <td>...</td>\n      <td>...</td>\n      <td>...</td>\n      <td>...</td>\n      <td>...</td>\n      <td>...</td>\n      <td>...</td>\n      <td>...</td>\n      <td>...</td>\n      <td>...</td>\n      <td>...</td>\n      <td>...</td>\n      <td>...</td>\n      <td>...</td>\n      <td>...</td>\n      <td>...</td>\n      <td>...</td>\n    </tr>\n    <tr>\n      <th>73259</th>\n      <td>Man</td>\n      <td>PLN\tPolish zloty</td>\n      <td>25-34 years old</td>\n      <td>Developer, back-end</td>\n      <td>8000.0</td>\n      <td>NaN</td>\n      <td>73259</td>\n      <td>Technical documentation;Blogs;Written Tutorial...</td>\n      <td>Poland</td>\n      <td>Monthly</td>\n      <td>73260</td>\n      <td>Other (please specify):</td>\n      <td>6</td>\n      <td>2</td>\n      <td>Master’s degree (M.A., M.S., M.Eng., MBA, etc.)</td>\n      <td>I am a developer by profession</td>\n      <td>Books / Physical media;Other online resources ...</td>\n      <td>96000.0</td>\n      <td>PLN</td>\n    </tr>\n    <tr>\n      <th>73261</th>\n      <td>Man</td>\n      <td>EUR European Euro</td>\n      <td>18-24 years old</td>\n      <td>Developer, full-stack</td>\n      <td>36000.0</td>\n      <td>Udemy;Codecademy;Pluralsight</td>\n      <td>73261</td>\n      <td>Technical documentation;Blogs;Programming Game...</td>\n      <td>France</td>\n      <td>Yearly</td>\n      <td>73262</td>\n      <td>Hobby</td>\n      <td>9</td>\n      <td>2</td>\n      <td>Master’s degree (M.A., M.S., M.Eng., MBA, etc.)</td>\n      <td>I am a developer by profession</td>\n      <td>Books / Physical media;Other online resources ...</td>\n      <td>36000.0</td>\n      <td>EUR</td>\n    </tr>\n    <tr>\n      <th>73263</th>\n      <td>Man</td>\n      <td>USD\tUnited States dollar</td>\n      <td>25-34 years old</td>\n      <td>Developer, back-end</td>\n      <td>60000.0</td>\n      <td>Udemy</td>\n      <td>73263</td>\n      <td>Technical documentation;Blogs;Written Tutorial...</td>\n      <td>Nigeria</td>\n      <td>Yearly</td>\n      <td>73264</td>\n      <td>Freelance/contract work</td>\n      <td>8</td>\n      <td>5</td>\n      <td>Bachelor’s degree (B.A., B.S., B.Eng., etc.)</td>\n      <td>I am a developer by profession</td>\n      <td>Books / Physical media;Other online resources ...</td>\n      <td>60000.0</td>\n      <td>USD</td>\n    </tr>\n    <tr>\n      <th>73264</th>\n      <td>Man</td>\n      <td>USD\tUnited States dollar</td>\n      <td>25-34 years old</td>\n      <td>Data scientist or machine learning specialist</td>\n      <td>107000.0</td>\n      <td>Coursera;Udemy;Udacity</td>\n      <td>73264</td>\n      <td>Technical documentation;Blogs;Written Tutorial...</td>\n      <td>United States of America</td>\n      <td>Yearly</td>\n      <td>73265</td>\n      <td>Hobby</td>\n      <td>6</td>\n      <td>5</td>\n      <td>Master’s degree (M.A., M.S., M.Eng., MBA, etc.)</td>\n      <td>I am a developer by profession</td>\n      <td>Other online resources (e.g., videos, blogs, f...</td>\n      <td>107000.0</td>\n      <td>USD</td>\n    </tr>\n    <tr>\n      <th>73266</th>\n      <td>Man</td>\n      <td>GBP\tPound sterling</td>\n      <td>55-64 years old</td>\n      <td>Developer, front-end;Developer, desktop or ent...</td>\n      <td>58500.0</td>\n      <td>NaN</td>\n      <td>73266</td>\n      <td>NaN</td>\n      <td>United Kingdom of Great Britain and Northern I...</td>\n      <td>Yearly</td>\n      <td>73267</td>\n      <td>Hobby</td>\n      <td>50</td>\n      <td>31</td>\n      <td>Bachelor’s degree (B.A., B.S., B.Eng., etc.)</td>\n      <td>I am a developer by profession</td>\n      <td>Books / Physical media;On the job training</td>\n      <td>58500.0</td>\n      <td>GBP</td>\n    </tr>\n  </tbody>\n</table>\n<p>38347 rows × 19 columns</p>\n</div>"
     },
     "execution_count": 107,
     "metadata": {},
     "output_type": "execute_result"
    }
   ],
   "source": [
    "df = profile_salary_df[profile_salary_df['AnualComp'].notnull()]\n",
    "df['Currency'] = df['Currency'].astype('string')\n",
    "df['CurrencyCode'] = np.nan\n",
    "df['CurrencyCode'] = df['Currency'].apply(lambda x: x[:3])\n",
    "df"
   ],
   "metadata": {
    "collapsed": false,
    "pycharm": {
     "name": "#%%\n"
    }
   }
  },
  {
   "cell_type": "code",
   "execution_count": 109,
   "outputs": [
    {
     "name": "stdout",
     "output_type": "stream",
     "text": [
      "<class 'pandas.core.frame.DataFrame'>\n",
      "Int64Index: 38347 entries, 0 to 38346\n",
      "Data columns (total 21 columns):\n",
      " #   Column                Non-Null Count  Dtype  \n",
      "---  ------                --------------  -----  \n",
      " 0   Gender                38213 non-null  object \n",
      " 1   Currency              38347 non-null  string \n",
      " 2   Age                   38259 non-null  object \n",
      " 3   DevType               38250 non-null  object \n",
      " 4   CompTotal             38347 non-null  float64\n",
      " 5   LearnCodeCoursesCert  15378 non-null  object \n",
      " 6   Unnamed: 0            38347 non-null  int64  \n",
      " 7   LearnCodeOnline       26401 non-null  object \n",
      " 8   Country               38347 non-null  object \n",
      " 9   CompFreq              38347 non-null  object \n",
      " 10  ResponseId            38347 non-null  int64  \n",
      " 11  CodingActivities      38259 non-null  object \n",
      " 12  YearsCode             38275 non-null  object \n",
      " 13  YearsCodePro          38205 non-null  object \n",
      " 14  EdLevel               38329 non-null  object \n",
      " 15  MainBranch            38347 non-null  object \n",
      " 16  LearnCode             38326 non-null  object \n",
      " 17  AnualComp             38347 non-null  float64\n",
      " 18  CurrencyCode          38347 non-null  object \n",
      " 19  ExchangeRate_x        38271 non-null  float64\n",
      " 20  ExchangeRate_y        38271 non-null  float64\n",
      "dtypes: float64(4), int64(2), object(14), string(1)\n",
      "memory usage: 6.4+ MB\n"
     ]
    }
   ],
   "source": [
    "df = df.merge(final_curr, on= 'CurrencyCode', how = 'left')\n",
    "df.info()"
   ],
   "metadata": {
    "collapsed": false,
    "pycharm": {
     "name": "#%%\n"
    }
   }
  },
  {
   "cell_type": "code",
   "execution_count": 113,
   "outputs": [
    {
     "name": "stdout",
     "output_type": "stream",
     "text": [
      "<class 'pandas.core.frame.DataFrame'>\n",
      "Int64Index: 38347 entries, 0 to 38346\n",
      "Data columns (total 20 columns):\n",
      " #   Column                Non-Null Count  Dtype  \n",
      "---  ------                --------------  -----  \n",
      " 0   Gender                38213 non-null  object \n",
      " 1   Currency              38347 non-null  string \n",
      " 2   Age                   38259 non-null  object \n",
      " 3   DevType               38250 non-null  object \n",
      " 4   CompTotal             38347 non-null  float64\n",
      " 5   LearnCodeCoursesCert  15378 non-null  object \n",
      " 6   Unnamed: 0            38347 non-null  int64  \n",
      " 7   LearnCodeOnline       26401 non-null  object \n",
      " 8   Country               38347 non-null  object \n",
      " 9   CompFreq              38347 non-null  object \n",
      " 10  ResponseId            38347 non-null  int64  \n",
      " 11  CodingActivities      38259 non-null  object \n",
      " 12  YearsCode             38275 non-null  object \n",
      " 13  YearsCodePro          38205 non-null  object \n",
      " 14  EdLevel               38329 non-null  object \n",
      " 15  MainBranch            38347 non-null  object \n",
      " 16  LearnCode             38326 non-null  object \n",
      " 17  AnualComp             38347 non-null  float64\n",
      " 18  CurrencyCode          38347 non-null  object \n",
      " 19  ExchangeRate          38271 non-null  float64\n",
      "dtypes: float64(3), int64(2), object(14), string(1)\n",
      "memory usage: 6.1+ MB\n"
     ]
    }
   ],
   "source": [
    "df.rename(columns={'ExchangeRate_x':'ExchangeRate'}, inplace = True)\n",
    "df.info()"
   ],
   "metadata": {
    "collapsed": false,
    "pycharm": {
     "name": "#%%\n"
    }
   }
  },
  {
   "cell_type": "code",
   "execution_count": 122,
   "outputs": [
    {
     "data": {
      "text/plain": "                  Gender              Currency              Age  \\\n695                  Man        IMP\tManx pound  25-34 years old   \n3239                 Man  MNT\tMongolian tugrik  35-44 years old   \n3502                 Man  MKD\tMacedonian denar  25-34 years old   \n4119   Prefer not to say  MNT\tMongolian tugrik  25-34 years old   \n4295                 Man  MKD\tMacedonian denar  35-44 years old   \n...                  ...                   ...              ...   \n36294                Man      MMK\tMyanmar kyat  35-44 years old   \n36810                Man  MKD\tMacedonian denar  25-34 years old   \n37632                Man    DOP\tDominican peso  25-34 years old   \n37994                Man    DOP\tDominican peso  35-44 years old   \n38212                Man      MMK\tMyanmar kyat  18-24 years old   \n\n                                                 DevType  CompTotal  \\\n695                          Developer, back-end;Student    50000.0   \n3239   Developer, back-end;Developer, mobile;Database...  3500000.0   \n3502                               Developer, full-stack   150000.0   \n4119                               Developer, full-stack  5000000.0   \n4295             Developer, full-stack;DevOps specialist   200000.0   \n...                                                  ...        ...   \n36294  Developer, full-stack;Developer, back-end;Deve...  2200000.0   \n36810          Developer, full-stack;Developer, back-end   140000.0   \n37632          Developer, full-stack;Developer, back-end   144000.0   \n37994               Engineer, data;Developer, QA or test  1200000.0   \n38212                               Developer, front-end       90.0   \n\n               LearnCodeCoursesCert  Unnamed: 0  \\\n695                             NaN        1184   \n3239                            NaN        5787   \n3502              Udemy;Pluralsight        6250   \n4119                    Udemy;Other        7397   \n4295   Udemy;Codecademy;Pluralsight        7749   \n...                             ...         ...   \n36294                           NaN       68697   \n36810                Coursera;Udemy       70180   \n37632    Coursera;Udemy;Pluralsight       71962   \n37994                         Udemy       72661   \n38212                           NaN       73049   \n\n                                         LearnCodeOnline  \\\n695                                                  NaN   \n3239   Technical documentation;Written Tutorials;Stac...   \n3502   Technical documentation;Blogs;Written Tutorial...   \n4119   Technical documentation;Blogs;Written Tutorial...   \n4295   Technical documentation;Blogs;Stack Overflow;O...   \n...                                                  ...   \n36294  Technical documentation;Stack Overflow;Online ...   \n36810  Technical documentation;Blogs;Stack Overflow;V...   \n37632                                                NaN   \n37994  Technical documentation;Blogs;Written Tutorial...   \n38212                                                NaN   \n\n                                         Country CompFreq  ResponseId  \\\n695                                        India  Monthly        1185   \n3239                                    Mongolia  Monthly        5788   \n3502   The former Yugoslav Republic of Macedonia  Monthly        6251   \n4119                                    Mongolia  Monthly        7398   \n4295   The former Yugoslav Republic of Macedonia  Monthly        7750   \n...                                          ...      ...         ...   \n36294                                    Myanmar  Monthly       68698   \n36810  The former Yugoslav Republic of Macedonia  Monthly       70181   \n37632                         Dominican Republic  Monthly       71963   \n37994                         Dominican Republic  Monthly       72662   \n38212                                    Myanmar  Monthly       73050   \n\n                                        CodingActivities YearsCode  \\\n695                       Hobby;Bootstrapping a business         5   \n3239   Hobby;Contribute to open-source projects;Freel...        20   \n3502                                               Hobby         7   \n4119                                               Hobby        10   \n4295                             Freelance/contract work        18   \n...                                                  ...       ...   \n36294                      Hobby;Freelance/contract work        24   \n36810                                              Hobby        10   \n37632           Hobby;Contribute to open-source projects         8   \n37994                                              Hobby        10   \n38212                                              Hobby         3   \n\n           YearsCodePro                                          EdLevel  \\\n695                   4     Bachelor’s degree (B.A., B.S., B.Eng., etc.)   \n3239                 10                        Primary/elementary school   \n3502                  6     Bachelor’s degree (B.A., B.S., B.Eng., etc.)   \n4119                  2     Bachelor’s degree (B.A., B.S., B.Eng., etc.)   \n4295                 13     Bachelor’s degree (B.A., B.S., B.Eng., etc.)   \n...                 ...                                              ...   \n36294                15     Bachelor’s degree (B.A., B.S., B.Eng., etc.)   \n36810                 6     Bachelor’s degree (B.A., B.S., B.Eng., etc.)   \n37632                 6     Bachelor’s degree (B.A., B.S., B.Eng., etc.)   \n37994                10  Master’s degree (M.A., M.S., M.Eng., MBA, etc.)   \n38212  Less than 1 year     Bachelor’s degree (B.A., B.S., B.Eng., etc.)   \n\n                           MainBranch  \\\n695    I am a developer by profession   \n3239   I am a developer by profession   \n3502   I am a developer by profession   \n4119   I am a developer by profession   \n4295   I am a developer by profession   \n...                               ...   \n36294  I am a developer by profession   \n36810  I am a developer by profession   \n37632  I am a developer by profession   \n37994  I am a developer by profession   \n38212  I am a developer by profession   \n\n                                               LearnCode   AnualComp  \\\n695    Books / Physical media;Online Courses or Certi...    600000.0   \n3239   Books / Physical media;Other online resources ...  42000000.0   \n3502   Other online resources (e.g., videos, blogs, f...   1800000.0   \n4119   Other online resources (e.g., videos, blogs, f...  60000000.0   \n4295   Books / Physical media;Other online resources ...   2400000.0   \n...                                                  ...         ...   \n36294  Books / Physical media;Other online resources ...  26400000.0   \n36810  Books / Physical media;Other online resources ...   1680000.0   \n37632  Books / Physical media;School (i.e., Universit...   1728000.0   \n37994  Books / Physical media;Other online resources ...  14400000.0   \n38212                             Books / Physical media      1080.0   \n\n      CurrencyCode  ExchangeRate  \n695            IMP           NaN  \n3239           MNT           NaN  \n3502           MKD           NaN  \n4119           MNT           NaN  \n4295           MKD           NaN  \n...            ...           ...  \n36294          MMK           NaN  \n36810          MKD           NaN  \n37632          DOP           NaN  \n37994          DOP           NaN  \n38212          MMK           NaN  \n\n[76 rows x 20 columns]",
      "text/html": "<div>\n<style scoped>\n    .dataframe tbody tr th:only-of-type {\n        vertical-align: middle;\n    }\n\n    .dataframe tbody tr th {\n        vertical-align: top;\n    }\n\n    .dataframe thead th {\n        text-align: right;\n    }\n</style>\n<table border=\"1\" class=\"dataframe\">\n  <thead>\n    <tr style=\"text-align: right;\">\n      <th></th>\n      <th>Gender</th>\n      <th>Currency</th>\n      <th>Age</th>\n      <th>DevType</th>\n      <th>CompTotal</th>\n      <th>LearnCodeCoursesCert</th>\n      <th>Unnamed: 0</th>\n      <th>LearnCodeOnline</th>\n      <th>Country</th>\n      <th>CompFreq</th>\n      <th>ResponseId</th>\n      <th>CodingActivities</th>\n      <th>YearsCode</th>\n      <th>YearsCodePro</th>\n      <th>EdLevel</th>\n      <th>MainBranch</th>\n      <th>LearnCode</th>\n      <th>AnualComp</th>\n      <th>CurrencyCode</th>\n      <th>ExchangeRate</th>\n    </tr>\n  </thead>\n  <tbody>\n    <tr>\n      <th>695</th>\n      <td>Man</td>\n      <td>IMP\tManx pound</td>\n      <td>25-34 years old</td>\n      <td>Developer, back-end;Student</td>\n      <td>50000.0</td>\n      <td>NaN</td>\n      <td>1184</td>\n      <td>NaN</td>\n      <td>India</td>\n      <td>Monthly</td>\n      <td>1185</td>\n      <td>Hobby;Bootstrapping a business</td>\n      <td>5</td>\n      <td>4</td>\n      <td>Bachelor’s degree (B.A., B.S., B.Eng., etc.)</td>\n      <td>I am a developer by profession</td>\n      <td>Books / Physical media;Online Courses or Certi...</td>\n      <td>600000.0</td>\n      <td>IMP</td>\n      <td>NaN</td>\n    </tr>\n    <tr>\n      <th>3239</th>\n      <td>Man</td>\n      <td>MNT\tMongolian tugrik</td>\n      <td>35-44 years old</td>\n      <td>Developer, back-end;Developer, mobile;Database...</td>\n      <td>3500000.0</td>\n      <td>NaN</td>\n      <td>5787</td>\n      <td>Technical documentation;Written Tutorials;Stac...</td>\n      <td>Mongolia</td>\n      <td>Monthly</td>\n      <td>5788</td>\n      <td>Hobby;Contribute to open-source projects;Freel...</td>\n      <td>20</td>\n      <td>10</td>\n      <td>Primary/elementary school</td>\n      <td>I am a developer by profession</td>\n      <td>Books / Physical media;Other online resources ...</td>\n      <td>42000000.0</td>\n      <td>MNT</td>\n      <td>NaN</td>\n    </tr>\n    <tr>\n      <th>3502</th>\n      <td>Man</td>\n      <td>MKD\tMacedonian denar</td>\n      <td>25-34 years old</td>\n      <td>Developer, full-stack</td>\n      <td>150000.0</td>\n      <td>Udemy;Pluralsight</td>\n      <td>6250</td>\n      <td>Technical documentation;Blogs;Written Tutorial...</td>\n      <td>The former Yugoslav Republic of Macedonia</td>\n      <td>Monthly</td>\n      <td>6251</td>\n      <td>Hobby</td>\n      <td>7</td>\n      <td>6</td>\n      <td>Bachelor’s degree (B.A., B.S., B.Eng., etc.)</td>\n      <td>I am a developer by profession</td>\n      <td>Other online resources (e.g., videos, blogs, f...</td>\n      <td>1800000.0</td>\n      <td>MKD</td>\n      <td>NaN</td>\n    </tr>\n    <tr>\n      <th>4119</th>\n      <td>Prefer not to say</td>\n      <td>MNT\tMongolian tugrik</td>\n      <td>25-34 years old</td>\n      <td>Developer, full-stack</td>\n      <td>5000000.0</td>\n      <td>Udemy;Other</td>\n      <td>7397</td>\n      <td>Technical documentation;Blogs;Written Tutorial...</td>\n      <td>Mongolia</td>\n      <td>Monthly</td>\n      <td>7398</td>\n      <td>Hobby</td>\n      <td>10</td>\n      <td>2</td>\n      <td>Bachelor’s degree (B.A., B.S., B.Eng., etc.)</td>\n      <td>I am a developer by profession</td>\n      <td>Other online resources (e.g., videos, blogs, f...</td>\n      <td>60000000.0</td>\n      <td>MNT</td>\n      <td>NaN</td>\n    </tr>\n    <tr>\n      <th>4295</th>\n      <td>Man</td>\n      <td>MKD\tMacedonian denar</td>\n      <td>35-44 years old</td>\n      <td>Developer, full-stack;DevOps specialist</td>\n      <td>200000.0</td>\n      <td>Udemy;Codecademy;Pluralsight</td>\n      <td>7749</td>\n      <td>Technical documentation;Blogs;Stack Overflow;O...</td>\n      <td>The former Yugoslav Republic of Macedonia</td>\n      <td>Monthly</td>\n      <td>7750</td>\n      <td>Freelance/contract work</td>\n      <td>18</td>\n      <td>13</td>\n      <td>Bachelor’s degree (B.A., B.S., B.Eng., etc.)</td>\n      <td>I am a developer by profession</td>\n      <td>Books / Physical media;Other online resources ...</td>\n      <td>2400000.0</td>\n      <td>MKD</td>\n      <td>NaN</td>\n    </tr>\n    <tr>\n      <th>...</th>\n      <td>...</td>\n      <td>...</td>\n      <td>...</td>\n      <td>...</td>\n      <td>...</td>\n      <td>...</td>\n      <td>...</td>\n      <td>...</td>\n      <td>...</td>\n      <td>...</td>\n      <td>...</td>\n      <td>...</td>\n      <td>...</td>\n      <td>...</td>\n      <td>...</td>\n      <td>...</td>\n      <td>...</td>\n      <td>...</td>\n      <td>...</td>\n      <td>...</td>\n    </tr>\n    <tr>\n      <th>36294</th>\n      <td>Man</td>\n      <td>MMK\tMyanmar kyat</td>\n      <td>35-44 years old</td>\n      <td>Developer, full-stack;Developer, back-end;Deve...</td>\n      <td>2200000.0</td>\n      <td>NaN</td>\n      <td>68697</td>\n      <td>Technical documentation;Stack Overflow;Online ...</td>\n      <td>Myanmar</td>\n      <td>Monthly</td>\n      <td>68698</td>\n      <td>Hobby;Freelance/contract work</td>\n      <td>24</td>\n      <td>15</td>\n      <td>Bachelor’s degree (B.A., B.S., B.Eng., etc.)</td>\n      <td>I am a developer by profession</td>\n      <td>Books / Physical media;Other online resources ...</td>\n      <td>26400000.0</td>\n      <td>MMK</td>\n      <td>NaN</td>\n    </tr>\n    <tr>\n      <th>36810</th>\n      <td>Man</td>\n      <td>MKD\tMacedonian denar</td>\n      <td>25-34 years old</td>\n      <td>Developer, full-stack;Developer, back-end</td>\n      <td>140000.0</td>\n      <td>Coursera;Udemy</td>\n      <td>70180</td>\n      <td>Technical documentation;Blogs;Stack Overflow;V...</td>\n      <td>The former Yugoslav Republic of Macedonia</td>\n      <td>Monthly</td>\n      <td>70181</td>\n      <td>Hobby</td>\n      <td>10</td>\n      <td>6</td>\n      <td>Bachelor’s degree (B.A., B.S., B.Eng., etc.)</td>\n      <td>I am a developer by profession</td>\n      <td>Books / Physical media;Other online resources ...</td>\n      <td>1680000.0</td>\n      <td>MKD</td>\n      <td>NaN</td>\n    </tr>\n    <tr>\n      <th>37632</th>\n      <td>Man</td>\n      <td>DOP\tDominican peso</td>\n      <td>25-34 years old</td>\n      <td>Developer, full-stack;Developer, back-end</td>\n      <td>144000.0</td>\n      <td>Coursera;Udemy;Pluralsight</td>\n      <td>71962</td>\n      <td>NaN</td>\n      <td>Dominican Republic</td>\n      <td>Monthly</td>\n      <td>71963</td>\n      <td>Hobby;Contribute to open-source projects</td>\n      <td>8</td>\n      <td>6</td>\n      <td>Bachelor’s degree (B.A., B.S., B.Eng., etc.)</td>\n      <td>I am a developer by profession</td>\n      <td>Books / Physical media;School (i.e., Universit...</td>\n      <td>1728000.0</td>\n      <td>DOP</td>\n      <td>NaN</td>\n    </tr>\n    <tr>\n      <th>37994</th>\n      <td>Man</td>\n      <td>DOP\tDominican peso</td>\n      <td>35-44 years old</td>\n      <td>Engineer, data;Developer, QA or test</td>\n      <td>1200000.0</td>\n      <td>Udemy</td>\n      <td>72661</td>\n      <td>Technical documentation;Blogs;Written Tutorial...</td>\n      <td>Dominican Republic</td>\n      <td>Monthly</td>\n      <td>72662</td>\n      <td>Hobby</td>\n      <td>10</td>\n      <td>10</td>\n      <td>Master’s degree (M.A., M.S., M.Eng., MBA, etc.)</td>\n      <td>I am a developer by profession</td>\n      <td>Books / Physical media;Other online resources ...</td>\n      <td>14400000.0</td>\n      <td>DOP</td>\n      <td>NaN</td>\n    </tr>\n    <tr>\n      <th>38212</th>\n      <td>Man</td>\n      <td>MMK\tMyanmar kyat</td>\n      <td>18-24 years old</td>\n      <td>Developer, front-end</td>\n      <td>90.0</td>\n      <td>NaN</td>\n      <td>73049</td>\n      <td>NaN</td>\n      <td>Myanmar</td>\n      <td>Monthly</td>\n      <td>73050</td>\n      <td>Hobby</td>\n      <td>3</td>\n      <td>Less than 1 year</td>\n      <td>Bachelor’s degree (B.A., B.S., B.Eng., etc.)</td>\n      <td>I am a developer by profession</td>\n      <td>Books / Physical media</td>\n      <td>1080.0</td>\n      <td>MMK</td>\n      <td>NaN</td>\n    </tr>\n  </tbody>\n</table>\n<p>76 rows × 20 columns</p>\n</div>"
     },
     "execution_count": 122,
     "metadata": {},
     "output_type": "execute_result"
    }
   ],
   "source": [
    "df[df['ExchangeRate'].isnull()]"
   ],
   "metadata": {
    "collapsed": false,
    "pycharm": {
     "name": "#%%\n"
    }
   }
  },
  {
   "cell_type": "code",
   "execution_count": 119,
   "outputs": [
    {
     "data": {
      "text/plain": "['IMP', 'MNT', 'MKD', 'MMK', 'DOP', 'KYD', 'VES']"
     },
     "execution_count": 119,
     "metadata": {},
     "output_type": "execute_result"
    }
   ],
   "source": [
    "non_curr_list2 = list(df[df['ExchangeRate'].isnull()]['CurrencyCode'].unique())\n",
    "non_curr_list2"
   ],
   "metadata": {
    "collapsed": false,
    "pycharm": {
     "name": "#%%\n"
    }
   }
  },
  {
   "cell_type": "code",
   "execution_count": 125,
   "outputs": [
    {
     "data": {
      "text/plain": "DOP\tDominican peso           34\nMMK\tMyanmar kyat             15\nMKD\tMacedonian denar         14\nMNT\tMongolian tugrik          5\nVES\tVenezuelan bolivar        5\nIMP\tManx pound                2\nKYD\tCayman Islands dollar     1\nName: Currency, dtype: Int64"
     },
     "execution_count": 125,
     "metadata": {},
     "output_type": "execute_result"
    }
   ],
   "source": [
    "df[df['ExchangeRate'].isnull()]['Currency'].value_counts()"
   ],
   "metadata": {
    "collapsed": false,
    "pycharm": {
     "name": "#%%\n"
    }
   }
  },
  {
   "cell_type": "code",
   "execution_count": 133,
   "outputs": [],
   "source": [
    "df.loc[df['Currency'] == 'DOP\tDominican peso', 'ExchangeRate'] = 53.4\n",
    "df.loc[df['Currency'] == 'MMK\tMyanmar kyat', 'ExchangeRate'] = 2099.33\n",
    "df.loc[df['Currency'] == 'MKD\tMacedonian denar', 'ExchangeRate'] = 61.95\n",
    "df.loc[df['Currency'] == 'MNT\tMongolian tugrik', 'ExchangeRate'] = 3338.61\n",
    "df.loc[df['Currency'] == 'VES\tVenezuelan bolivar', 'ExchangeRate'] = 6.1724\n",
    "df.loc[df['Currency'] == 'IMP\tManx pound', 'ExchangeRate'] = 0.895307\n",
    "df.loc[df['Currency'] == 'KYD\tCayman Islands dollar', 'ExchangeRate'] = 0.833\n",
    "# https://www.google.com/finance/"
   ],
   "metadata": {
    "collapsed": false,
    "pycharm": {
     "name": "#%%\n"
    }
   }
  },
  {
   "cell_type": "code",
   "execution_count": 134,
   "outputs": [
    {
     "data": {
      "text/plain": "      Gender                  Currency              Age  \\\n0        Man        GBP\tPound sterling  25-34 years old   \n1        Man    ILS\tIsraeli new shekel  35-44 years old   \n2      Woman         EUR European Euro  25-34 years old   \n3        Man        GBP\tPound sterling  18-24 years old   \n4        Man  USD\tUnited States dollar  35-44 years old   \n...      ...                       ...              ...   \n38342    Man          PLN\tPolish zloty  25-34 years old   \n38343    Man         EUR European Euro  18-24 years old   \n38344    Man  USD\tUnited States dollar  25-34 years old   \n38345    Man  USD\tUnited States dollar  25-34 years old   \n38346    Man        GBP\tPound sterling  55-64 years old   \n\n                                                 DevType  CompTotal  \\\n0      Data scientist or machine learning specialist;...    32000.0   \n1                                  Developer, full-stack    60000.0   \n2                                    Developer, back-end    46000.0   \n3              Developer, full-stack;Developer, back-end    48000.0   \n4                                    Engineering manager   194400.0   \n...                                                  ...        ...   \n38342                                Developer, back-end     8000.0   \n38343                              Developer, full-stack    36000.0   \n38344                                Developer, back-end    60000.0   \n38345      Data scientist or machine learning specialist   107000.0   \n38346  Developer, front-end;Developer, desktop or ent...    58500.0   \n\n               LearnCodeCoursesCert  Unnamed: 0  \\\n0                               NaN           2   \n1                               NaN           3   \n2                               NaN           8   \n3                               NaN          10   \n4                               NaN          11   \n...                             ...         ...   \n38342                           NaN       73259   \n38343  Udemy;Codecademy;Pluralsight       73261   \n38344                         Udemy       73263   \n38345        Coursera;Udemy;Udacity       73264   \n38346                           NaN       73266   \n\n                                         LearnCodeOnline  \\\n0      Technical documentation;Blogs;Programming Game...   \n1                                                    NaN   \n2                                                    NaN   \n3      Technical documentation;Blogs;Written Tutorial...   \n4      Technical documentation;Blogs;Written Tutorial...   \n...                                                  ...   \n38342  Technical documentation;Blogs;Written Tutorial...   \n38343  Technical documentation;Blogs;Programming Game...   \n38344  Technical documentation;Blogs;Written Tutorial...   \n38345  Technical documentation;Blogs;Written Tutorial...   \n38346                                                NaN   \n\n                                                 Country CompFreq  ResponseId  \\\n0      United Kingdom of Great Britain and Northern I...   Yearly           3   \n1                                                 Israel  Monthly           4   \n2                                            Netherlands   Yearly           9   \n3      United Kingdom of Great Britain and Northern I...   Yearly          11   \n4                               United States of America   Yearly          12   \n...                                                  ...      ...         ...   \n38342                                             Poland  Monthly       73260   \n38343                                             France   Yearly       73262   \n38344                                            Nigeria   Yearly       73264   \n38345                           United States of America   Yearly       73265   \n38346  United Kingdom of Great Britain and Northern I...   Yearly       73267   \n\n                                        CodingActivities YearsCode  \\\n0                                                  Hobby        14   \n1                           I don’t code outside of work        20   \n2                           I don’t code outside of work         6   \n3                           I don’t code outside of work         5   \n4      Hobby;Contribute to open-source projects;Freel...        12   \n...                                                  ...       ...   \n38342                            Other (please specify):         6   \n38343                                              Hobby         9   \n38344                            Freelance/contract work         8   \n38345                                              Hobby         6   \n38346                                              Hobby        50   \n\n      YearsCodePro                                          EdLevel  \\\n0                5  Master’s degree (M.A., M.S., M.Eng., MBA, etc.)   \n1               17     Bachelor’s degree (B.A., B.S., B.Eng., etc.)   \n2                6  Master’s degree (M.A., M.S., M.Eng., MBA, etc.)   \n3                2     Bachelor’s degree (B.A., B.S., B.Eng., etc.)   \n4               10     Bachelor’s degree (B.A., B.S., B.Eng., etc.)   \n...            ...                                              ...   \n38342            2  Master’s degree (M.A., M.S., M.Eng., MBA, etc.)   \n38343            2  Master’s degree (M.A., M.S., M.Eng., MBA, etc.)   \n38344            5     Bachelor’s degree (B.A., B.S., B.Eng., etc.)   \n38345            5  Master’s degree (M.A., M.S., M.Eng., MBA, etc.)   \n38346           31     Bachelor’s degree (B.A., B.S., B.Eng., etc.)   \n\n                                              MainBranch  \\\n0      I am not primarily a developer, but I write co...   \n1                         I am a developer by profession   \n2                         I am a developer by profession   \n3                         I am a developer by profession   \n4      I am not primarily a developer, but I write co...   \n...                                                  ...   \n38342                     I am a developer by profession   \n38343                     I am a developer by profession   \n38344                     I am a developer by profession   \n38345                     I am a developer by profession   \n38346                     I am a developer by profession   \n\n                                               LearnCode  AnualComp  \\\n0      Books / Physical media;Friend or family member...    32000.0   \n1      Books / Physical media;School (i.e., Universit...   720000.0   \n2                    On the job training;Coding Bootcamp    46000.0   \n3      Books / Physical media;Friend or family member...    48000.0   \n4      Other online resources (e.g., videos, blogs, f...   194400.0   \n...                                                  ...        ...   \n38342  Books / Physical media;Other online resources ...    96000.0   \n38343  Books / Physical media;Other online resources ...    36000.0   \n38344  Books / Physical media;Other online resources ...    60000.0   \n38345  Other online resources (e.g., videos, blogs, f...   107000.0   \n38346         Books / Physical media;On the job training    58500.0   \n\n      CurrencyCode  ExchangeRate  \n0              GBP        0.8359  \n1              ILS        3.2909  \n2              EUR        0.9882  \n3              GBP        0.8359  \n4              USD        1.0000  \n...            ...           ...  \n38342          PLN        4.6613  \n38343          EUR        0.9882  \n38344          USD        1.0000  \n38345          USD        1.0000  \n38346          GBP        0.8359  \n\n[38347 rows x 20 columns]",
      "text/html": "<div>\n<style scoped>\n    .dataframe tbody tr th:only-of-type {\n        vertical-align: middle;\n    }\n\n    .dataframe tbody tr th {\n        vertical-align: top;\n    }\n\n    .dataframe thead th {\n        text-align: right;\n    }\n</style>\n<table border=\"1\" class=\"dataframe\">\n  <thead>\n    <tr style=\"text-align: right;\">\n      <th></th>\n      <th>Gender</th>\n      <th>Currency</th>\n      <th>Age</th>\n      <th>DevType</th>\n      <th>CompTotal</th>\n      <th>LearnCodeCoursesCert</th>\n      <th>Unnamed: 0</th>\n      <th>LearnCodeOnline</th>\n      <th>Country</th>\n      <th>CompFreq</th>\n      <th>ResponseId</th>\n      <th>CodingActivities</th>\n      <th>YearsCode</th>\n      <th>YearsCodePro</th>\n      <th>EdLevel</th>\n      <th>MainBranch</th>\n      <th>LearnCode</th>\n      <th>AnualComp</th>\n      <th>CurrencyCode</th>\n      <th>ExchangeRate</th>\n    </tr>\n  </thead>\n  <tbody>\n    <tr>\n      <th>0</th>\n      <td>Man</td>\n      <td>GBP\tPound sterling</td>\n      <td>25-34 years old</td>\n      <td>Data scientist or machine learning specialist;...</td>\n      <td>32000.0</td>\n      <td>NaN</td>\n      <td>2</td>\n      <td>Technical documentation;Blogs;Programming Game...</td>\n      <td>United Kingdom of Great Britain and Northern I...</td>\n      <td>Yearly</td>\n      <td>3</td>\n      <td>Hobby</td>\n      <td>14</td>\n      <td>5</td>\n      <td>Master’s degree (M.A., M.S., M.Eng., MBA, etc.)</td>\n      <td>I am not primarily a developer, but I write co...</td>\n      <td>Books / Physical media;Friend or family member...</td>\n      <td>32000.0</td>\n      <td>GBP</td>\n      <td>0.8359</td>\n    </tr>\n    <tr>\n      <th>1</th>\n      <td>Man</td>\n      <td>ILS\tIsraeli new shekel</td>\n      <td>35-44 years old</td>\n      <td>Developer, full-stack</td>\n      <td>60000.0</td>\n      <td>NaN</td>\n      <td>3</td>\n      <td>NaN</td>\n      <td>Israel</td>\n      <td>Monthly</td>\n      <td>4</td>\n      <td>I don’t code outside of work</td>\n      <td>20</td>\n      <td>17</td>\n      <td>Bachelor’s degree (B.A., B.S., B.Eng., etc.)</td>\n      <td>I am a developer by profession</td>\n      <td>Books / Physical media;School (i.e., Universit...</td>\n      <td>720000.0</td>\n      <td>ILS</td>\n      <td>3.2909</td>\n    </tr>\n    <tr>\n      <th>2</th>\n      <td>Woman</td>\n      <td>EUR European Euro</td>\n      <td>25-34 years old</td>\n      <td>Developer, back-end</td>\n      <td>46000.0</td>\n      <td>NaN</td>\n      <td>8</td>\n      <td>NaN</td>\n      <td>Netherlands</td>\n      <td>Yearly</td>\n      <td>9</td>\n      <td>I don’t code outside of work</td>\n      <td>6</td>\n      <td>6</td>\n      <td>Master’s degree (M.A., M.S., M.Eng., MBA, etc.)</td>\n      <td>I am a developer by profession</td>\n      <td>On the job training;Coding Bootcamp</td>\n      <td>46000.0</td>\n      <td>EUR</td>\n      <td>0.9882</td>\n    </tr>\n    <tr>\n      <th>3</th>\n      <td>Man</td>\n      <td>GBP\tPound sterling</td>\n      <td>18-24 years old</td>\n      <td>Developer, full-stack;Developer, back-end</td>\n      <td>48000.0</td>\n      <td>NaN</td>\n      <td>10</td>\n      <td>Technical documentation;Blogs;Written Tutorial...</td>\n      <td>United Kingdom of Great Britain and Northern I...</td>\n      <td>Yearly</td>\n      <td>11</td>\n      <td>I don’t code outside of work</td>\n      <td>5</td>\n      <td>2</td>\n      <td>Bachelor’s degree (B.A., B.S., B.Eng., etc.)</td>\n      <td>I am a developer by profession</td>\n      <td>Books / Physical media;Friend or family member...</td>\n      <td>48000.0</td>\n      <td>GBP</td>\n      <td>0.8359</td>\n    </tr>\n    <tr>\n      <th>4</th>\n      <td>Man</td>\n      <td>USD\tUnited States dollar</td>\n      <td>35-44 years old</td>\n      <td>Engineering manager</td>\n      <td>194400.0</td>\n      <td>NaN</td>\n      <td>11</td>\n      <td>Technical documentation;Blogs;Written Tutorial...</td>\n      <td>United States of America</td>\n      <td>Yearly</td>\n      <td>12</td>\n      <td>Hobby;Contribute to open-source projects;Freel...</td>\n      <td>12</td>\n      <td>10</td>\n      <td>Bachelor’s degree (B.A., B.S., B.Eng., etc.)</td>\n      <td>I am not primarily a developer, but I write co...</td>\n      <td>Other online resources (e.g., videos, blogs, f...</td>\n      <td>194400.0</td>\n      <td>USD</td>\n      <td>1.0000</td>\n    </tr>\n    <tr>\n      <th>...</th>\n      <td>...</td>\n      <td>...</td>\n      <td>...</td>\n      <td>...</td>\n      <td>...</td>\n      <td>...</td>\n      <td>...</td>\n      <td>...</td>\n      <td>...</td>\n      <td>...</td>\n      <td>...</td>\n      <td>...</td>\n      <td>...</td>\n      <td>...</td>\n      <td>...</td>\n      <td>...</td>\n      <td>...</td>\n      <td>...</td>\n      <td>...</td>\n      <td>...</td>\n    </tr>\n    <tr>\n      <th>38342</th>\n      <td>Man</td>\n      <td>PLN\tPolish zloty</td>\n      <td>25-34 years old</td>\n      <td>Developer, back-end</td>\n      <td>8000.0</td>\n      <td>NaN</td>\n      <td>73259</td>\n      <td>Technical documentation;Blogs;Written Tutorial...</td>\n      <td>Poland</td>\n      <td>Monthly</td>\n      <td>73260</td>\n      <td>Other (please specify):</td>\n      <td>6</td>\n      <td>2</td>\n      <td>Master’s degree (M.A., M.S., M.Eng., MBA, etc.)</td>\n      <td>I am a developer by profession</td>\n      <td>Books / Physical media;Other online resources ...</td>\n      <td>96000.0</td>\n      <td>PLN</td>\n      <td>4.6613</td>\n    </tr>\n    <tr>\n      <th>38343</th>\n      <td>Man</td>\n      <td>EUR European Euro</td>\n      <td>18-24 years old</td>\n      <td>Developer, full-stack</td>\n      <td>36000.0</td>\n      <td>Udemy;Codecademy;Pluralsight</td>\n      <td>73261</td>\n      <td>Technical documentation;Blogs;Programming Game...</td>\n      <td>France</td>\n      <td>Yearly</td>\n      <td>73262</td>\n      <td>Hobby</td>\n      <td>9</td>\n      <td>2</td>\n      <td>Master’s degree (M.A., M.S., M.Eng., MBA, etc.)</td>\n      <td>I am a developer by profession</td>\n      <td>Books / Physical media;Other online resources ...</td>\n      <td>36000.0</td>\n      <td>EUR</td>\n      <td>0.9882</td>\n    </tr>\n    <tr>\n      <th>38344</th>\n      <td>Man</td>\n      <td>USD\tUnited States dollar</td>\n      <td>25-34 years old</td>\n      <td>Developer, back-end</td>\n      <td>60000.0</td>\n      <td>Udemy</td>\n      <td>73263</td>\n      <td>Technical documentation;Blogs;Written Tutorial...</td>\n      <td>Nigeria</td>\n      <td>Yearly</td>\n      <td>73264</td>\n      <td>Freelance/contract work</td>\n      <td>8</td>\n      <td>5</td>\n      <td>Bachelor’s degree (B.A., B.S., B.Eng., etc.)</td>\n      <td>I am a developer by profession</td>\n      <td>Books / Physical media;Other online resources ...</td>\n      <td>60000.0</td>\n      <td>USD</td>\n      <td>1.0000</td>\n    </tr>\n    <tr>\n      <th>38345</th>\n      <td>Man</td>\n      <td>USD\tUnited States dollar</td>\n      <td>25-34 years old</td>\n      <td>Data scientist or machine learning specialist</td>\n      <td>107000.0</td>\n      <td>Coursera;Udemy;Udacity</td>\n      <td>73264</td>\n      <td>Technical documentation;Blogs;Written Tutorial...</td>\n      <td>United States of America</td>\n      <td>Yearly</td>\n      <td>73265</td>\n      <td>Hobby</td>\n      <td>6</td>\n      <td>5</td>\n      <td>Master’s degree (M.A., M.S., M.Eng., MBA, etc.)</td>\n      <td>I am a developer by profession</td>\n      <td>Other online resources (e.g., videos, blogs, f...</td>\n      <td>107000.0</td>\n      <td>USD</td>\n      <td>1.0000</td>\n    </tr>\n    <tr>\n      <th>38346</th>\n      <td>Man</td>\n      <td>GBP\tPound sterling</td>\n      <td>55-64 years old</td>\n      <td>Developer, front-end;Developer, desktop or ent...</td>\n      <td>58500.0</td>\n      <td>NaN</td>\n      <td>73266</td>\n      <td>NaN</td>\n      <td>United Kingdom of Great Britain and Northern I...</td>\n      <td>Yearly</td>\n      <td>73267</td>\n      <td>Hobby</td>\n      <td>50</td>\n      <td>31</td>\n      <td>Bachelor’s degree (B.A., B.S., B.Eng., etc.)</td>\n      <td>I am a developer by profession</td>\n      <td>Books / Physical media;On the job training</td>\n      <td>58500.0</td>\n      <td>GBP</td>\n      <td>0.8359</td>\n    </tr>\n  </tbody>\n</table>\n<p>38347 rows × 20 columns</p>\n</div>"
     },
     "execution_count": 134,
     "metadata": {},
     "output_type": "execute_result"
    }
   ],
   "source": [
    "df"
   ],
   "metadata": {
    "collapsed": false,
    "pycharm": {
     "name": "#%%\n"
    }
   }
  },
  {
   "cell_type": "code",
   "execution_count": 136,
   "outputs": [
    {
     "data": {
      "text/plain": "      Gender                  Currency              Age  \\\n0        Man        GBP\tPound sterling  25-34 years old   \n1        Man    ILS\tIsraeli new shekel  35-44 years old   \n2      Woman         EUR European Euro  25-34 years old   \n3        Man        GBP\tPound sterling  18-24 years old   \n4        Man  USD\tUnited States dollar  35-44 years old   \n...      ...                       ...              ...   \n38342    Man          PLN\tPolish zloty  25-34 years old   \n38343    Man         EUR European Euro  18-24 years old   \n38344    Man  USD\tUnited States dollar  25-34 years old   \n38345    Man  USD\tUnited States dollar  25-34 years old   \n38346    Man        GBP\tPound sterling  55-64 years old   \n\n                                                 DevType  CompTotal  \\\n0      Data scientist or machine learning specialist;...    32000.0   \n1                                  Developer, full-stack    60000.0   \n2                                    Developer, back-end    46000.0   \n3              Developer, full-stack;Developer, back-end    48000.0   \n4                                    Engineering manager   194400.0   \n...                                                  ...        ...   \n38342                                Developer, back-end     8000.0   \n38343                              Developer, full-stack    36000.0   \n38344                                Developer, back-end    60000.0   \n38345      Data scientist or machine learning specialist   107000.0   \n38346  Developer, front-end;Developer, desktop or ent...    58500.0   \n\n               LearnCodeCoursesCert  Unnamed: 0  \\\n0                               NaN           2   \n1                               NaN           3   \n2                               NaN           8   \n3                               NaN          10   \n4                               NaN          11   \n...                             ...         ...   \n38342                           NaN       73259   \n38343  Udemy;Codecademy;Pluralsight       73261   \n38344                         Udemy       73263   \n38345        Coursera;Udemy;Udacity       73264   \n38346                           NaN       73266   \n\n                                         LearnCodeOnline  \\\n0      Technical documentation;Blogs;Programming Game...   \n1                                                    NaN   \n2                                                    NaN   \n3      Technical documentation;Blogs;Written Tutorial...   \n4      Technical documentation;Blogs;Written Tutorial...   \n...                                                  ...   \n38342  Technical documentation;Blogs;Written Tutorial...   \n38343  Technical documentation;Blogs;Programming Game...   \n38344  Technical documentation;Blogs;Written Tutorial...   \n38345  Technical documentation;Blogs;Written Tutorial...   \n38346                                                NaN   \n\n                                                 Country CompFreq  ...  \\\n0      United Kingdom of Great Britain and Northern I...   Yearly  ...   \n1                                                 Israel  Monthly  ...   \n2                                            Netherlands   Yearly  ...   \n3      United Kingdom of Great Britain and Northern I...   Yearly  ...   \n4                               United States of America   Yearly  ...   \n...                                                  ...      ...  ...   \n38342                                             Poland  Monthly  ...   \n38343                                             France   Yearly  ...   \n38344                                            Nigeria   Yearly  ...   \n38345                           United States of America   Yearly  ...   \n38346  United Kingdom of Great Britain and Northern I...   Yearly  ...   \n\n                                        CodingActivities YearsCode  \\\n0                                                  Hobby        14   \n1                           I don’t code outside of work        20   \n2                           I don’t code outside of work         6   \n3                           I don’t code outside of work         5   \n4      Hobby;Contribute to open-source projects;Freel...        12   \n...                                                  ...       ...   \n38342                            Other (please specify):         6   \n38343                                              Hobby         9   \n38344                            Freelance/contract work         8   \n38345                                              Hobby         6   \n38346                                              Hobby        50   \n\n      YearsCodePro                                          EdLevel  \\\n0                5  Master’s degree (M.A., M.S., M.Eng., MBA, etc.)   \n1               17     Bachelor’s degree (B.A., B.S., B.Eng., etc.)   \n2                6  Master’s degree (M.A., M.S., M.Eng., MBA, etc.)   \n3                2     Bachelor’s degree (B.A., B.S., B.Eng., etc.)   \n4               10     Bachelor’s degree (B.A., B.S., B.Eng., etc.)   \n...            ...                                              ...   \n38342            2  Master’s degree (M.A., M.S., M.Eng., MBA, etc.)   \n38343            2  Master’s degree (M.A., M.S., M.Eng., MBA, etc.)   \n38344            5     Bachelor’s degree (B.A., B.S., B.Eng., etc.)   \n38345            5  Master’s degree (M.A., M.S., M.Eng., MBA, etc.)   \n38346           31     Bachelor’s degree (B.A., B.S., B.Eng., etc.)   \n\n                                              MainBranch  \\\n0      I am not primarily a developer, but I write co...   \n1                         I am a developer by profession   \n2                         I am a developer by profession   \n3                         I am a developer by profession   \n4      I am not primarily a developer, but I write co...   \n...                                                  ...   \n38342                     I am a developer by profession   \n38343                     I am a developer by profession   \n38344                     I am a developer by profession   \n38345                     I am a developer by profession   \n38346                     I am a developer by profession   \n\n                                               LearnCode AnualComp  \\\n0      Books / Physical media;Friend or family member...   32000.0   \n1      Books / Physical media;School (i.e., Universit...  720000.0   \n2                    On the job training;Coding Bootcamp   46000.0   \n3      Books / Physical media;Friend or family member...   48000.0   \n4      Other online resources (e.g., videos, blogs, f...  194400.0   \n...                                                  ...       ...   \n38342  Books / Physical media;Other online resources ...   96000.0   \n38343  Books / Physical media;Other online resources ...   36000.0   \n38344  Books / Physical media;Other online resources ...   60000.0   \n38345  Other online resources (e.g., videos, blogs, f...  107000.0   \n38346         Books / Physical media;On the job training   58500.0   \n\n       CurrencyCode ExchangeRate  AnualCompInUSD  \n0               GBP       0.8359    38282.091159  \n1               ILS       3.2909   218785.134766  \n2               EUR       0.9882    46549.281522  \n3               GBP       0.8359    57423.136739  \n4               USD       1.0000   194400.000000  \n...             ...          ...             ...  \n38342           PLN       4.6613    20595.112951  \n38343           EUR       0.9882    36429.872495  \n38344           USD       1.0000    60000.000000  \n38345           USD       1.0000   107000.000000  \n38346           GBP       0.8359    69984.447900  \n\n[38347 rows x 21 columns]",
      "text/html": "<div>\n<style scoped>\n    .dataframe tbody tr th:only-of-type {\n        vertical-align: middle;\n    }\n\n    .dataframe tbody tr th {\n        vertical-align: top;\n    }\n\n    .dataframe thead th {\n        text-align: right;\n    }\n</style>\n<table border=\"1\" class=\"dataframe\">\n  <thead>\n    <tr style=\"text-align: right;\">\n      <th></th>\n      <th>Gender</th>\n      <th>Currency</th>\n      <th>Age</th>\n      <th>DevType</th>\n      <th>CompTotal</th>\n      <th>LearnCodeCoursesCert</th>\n      <th>Unnamed: 0</th>\n      <th>LearnCodeOnline</th>\n      <th>Country</th>\n      <th>CompFreq</th>\n      <th>...</th>\n      <th>CodingActivities</th>\n      <th>YearsCode</th>\n      <th>YearsCodePro</th>\n      <th>EdLevel</th>\n      <th>MainBranch</th>\n      <th>LearnCode</th>\n      <th>AnualComp</th>\n      <th>CurrencyCode</th>\n      <th>ExchangeRate</th>\n      <th>AnualCompInUSD</th>\n    </tr>\n  </thead>\n  <tbody>\n    <tr>\n      <th>0</th>\n      <td>Man</td>\n      <td>GBP\tPound sterling</td>\n      <td>25-34 years old</td>\n      <td>Data scientist or machine learning specialist;...</td>\n      <td>32000.0</td>\n      <td>NaN</td>\n      <td>2</td>\n      <td>Technical documentation;Blogs;Programming Game...</td>\n      <td>United Kingdom of Great Britain and Northern I...</td>\n      <td>Yearly</td>\n      <td>...</td>\n      <td>Hobby</td>\n      <td>14</td>\n      <td>5</td>\n      <td>Master’s degree (M.A., M.S., M.Eng., MBA, etc.)</td>\n      <td>I am not primarily a developer, but I write co...</td>\n      <td>Books / Physical media;Friend or family member...</td>\n      <td>32000.0</td>\n      <td>GBP</td>\n      <td>0.8359</td>\n      <td>38282.091159</td>\n    </tr>\n    <tr>\n      <th>1</th>\n      <td>Man</td>\n      <td>ILS\tIsraeli new shekel</td>\n      <td>35-44 years old</td>\n      <td>Developer, full-stack</td>\n      <td>60000.0</td>\n      <td>NaN</td>\n      <td>3</td>\n      <td>NaN</td>\n      <td>Israel</td>\n      <td>Monthly</td>\n      <td>...</td>\n      <td>I don’t code outside of work</td>\n      <td>20</td>\n      <td>17</td>\n      <td>Bachelor’s degree (B.A., B.S., B.Eng., etc.)</td>\n      <td>I am a developer by profession</td>\n      <td>Books / Physical media;School (i.e., Universit...</td>\n      <td>720000.0</td>\n      <td>ILS</td>\n      <td>3.2909</td>\n      <td>218785.134766</td>\n    </tr>\n    <tr>\n      <th>2</th>\n      <td>Woman</td>\n      <td>EUR European Euro</td>\n      <td>25-34 years old</td>\n      <td>Developer, back-end</td>\n      <td>46000.0</td>\n      <td>NaN</td>\n      <td>8</td>\n      <td>NaN</td>\n      <td>Netherlands</td>\n      <td>Yearly</td>\n      <td>...</td>\n      <td>I don’t code outside of work</td>\n      <td>6</td>\n      <td>6</td>\n      <td>Master’s degree (M.A., M.S., M.Eng., MBA, etc.)</td>\n      <td>I am a developer by profession</td>\n      <td>On the job training;Coding Bootcamp</td>\n      <td>46000.0</td>\n      <td>EUR</td>\n      <td>0.9882</td>\n      <td>46549.281522</td>\n    </tr>\n    <tr>\n      <th>3</th>\n      <td>Man</td>\n      <td>GBP\tPound sterling</td>\n      <td>18-24 years old</td>\n      <td>Developer, full-stack;Developer, back-end</td>\n      <td>48000.0</td>\n      <td>NaN</td>\n      <td>10</td>\n      <td>Technical documentation;Blogs;Written Tutorial...</td>\n      <td>United Kingdom of Great Britain and Northern I...</td>\n      <td>Yearly</td>\n      <td>...</td>\n      <td>I don’t code outside of work</td>\n      <td>5</td>\n      <td>2</td>\n      <td>Bachelor’s degree (B.A., B.S., B.Eng., etc.)</td>\n      <td>I am a developer by profession</td>\n      <td>Books / Physical media;Friend or family member...</td>\n      <td>48000.0</td>\n      <td>GBP</td>\n      <td>0.8359</td>\n      <td>57423.136739</td>\n    </tr>\n    <tr>\n      <th>4</th>\n      <td>Man</td>\n      <td>USD\tUnited States dollar</td>\n      <td>35-44 years old</td>\n      <td>Engineering manager</td>\n      <td>194400.0</td>\n      <td>NaN</td>\n      <td>11</td>\n      <td>Technical documentation;Blogs;Written Tutorial...</td>\n      <td>United States of America</td>\n      <td>Yearly</td>\n      <td>...</td>\n      <td>Hobby;Contribute to open-source projects;Freel...</td>\n      <td>12</td>\n      <td>10</td>\n      <td>Bachelor’s degree (B.A., B.S., B.Eng., etc.)</td>\n      <td>I am not primarily a developer, but I write co...</td>\n      <td>Other online resources (e.g., videos, blogs, f...</td>\n      <td>194400.0</td>\n      <td>USD</td>\n      <td>1.0000</td>\n      <td>194400.000000</td>\n    </tr>\n    <tr>\n      <th>...</th>\n      <td>...</td>\n      <td>...</td>\n      <td>...</td>\n      <td>...</td>\n      <td>...</td>\n      <td>...</td>\n      <td>...</td>\n      <td>...</td>\n      <td>...</td>\n      <td>...</td>\n      <td>...</td>\n      <td>...</td>\n      <td>...</td>\n      <td>...</td>\n      <td>...</td>\n      <td>...</td>\n      <td>...</td>\n      <td>...</td>\n      <td>...</td>\n      <td>...</td>\n      <td>...</td>\n    </tr>\n    <tr>\n      <th>38342</th>\n      <td>Man</td>\n      <td>PLN\tPolish zloty</td>\n      <td>25-34 years old</td>\n      <td>Developer, back-end</td>\n      <td>8000.0</td>\n      <td>NaN</td>\n      <td>73259</td>\n      <td>Technical documentation;Blogs;Written Tutorial...</td>\n      <td>Poland</td>\n      <td>Monthly</td>\n      <td>...</td>\n      <td>Other (please specify):</td>\n      <td>6</td>\n      <td>2</td>\n      <td>Master’s degree (M.A., M.S., M.Eng., MBA, etc.)</td>\n      <td>I am a developer by profession</td>\n      <td>Books / Physical media;Other online resources ...</td>\n      <td>96000.0</td>\n      <td>PLN</td>\n      <td>4.6613</td>\n      <td>20595.112951</td>\n    </tr>\n    <tr>\n      <th>38343</th>\n      <td>Man</td>\n      <td>EUR European Euro</td>\n      <td>18-24 years old</td>\n      <td>Developer, full-stack</td>\n      <td>36000.0</td>\n      <td>Udemy;Codecademy;Pluralsight</td>\n      <td>73261</td>\n      <td>Technical documentation;Blogs;Programming Game...</td>\n      <td>France</td>\n      <td>Yearly</td>\n      <td>...</td>\n      <td>Hobby</td>\n      <td>9</td>\n      <td>2</td>\n      <td>Master’s degree (M.A., M.S., M.Eng., MBA, etc.)</td>\n      <td>I am a developer by profession</td>\n      <td>Books / Physical media;Other online resources ...</td>\n      <td>36000.0</td>\n      <td>EUR</td>\n      <td>0.9882</td>\n      <td>36429.872495</td>\n    </tr>\n    <tr>\n      <th>38344</th>\n      <td>Man</td>\n      <td>USD\tUnited States dollar</td>\n      <td>25-34 years old</td>\n      <td>Developer, back-end</td>\n      <td>60000.0</td>\n      <td>Udemy</td>\n      <td>73263</td>\n      <td>Technical documentation;Blogs;Written Tutorial...</td>\n      <td>Nigeria</td>\n      <td>Yearly</td>\n      <td>...</td>\n      <td>Freelance/contract work</td>\n      <td>8</td>\n      <td>5</td>\n      <td>Bachelor’s degree (B.A., B.S., B.Eng., etc.)</td>\n      <td>I am a developer by profession</td>\n      <td>Books / Physical media;Other online resources ...</td>\n      <td>60000.0</td>\n      <td>USD</td>\n      <td>1.0000</td>\n      <td>60000.000000</td>\n    </tr>\n    <tr>\n      <th>38345</th>\n      <td>Man</td>\n      <td>USD\tUnited States dollar</td>\n      <td>25-34 years old</td>\n      <td>Data scientist or machine learning specialist</td>\n      <td>107000.0</td>\n      <td>Coursera;Udemy;Udacity</td>\n      <td>73264</td>\n      <td>Technical documentation;Blogs;Written Tutorial...</td>\n      <td>United States of America</td>\n      <td>Yearly</td>\n      <td>...</td>\n      <td>Hobby</td>\n      <td>6</td>\n      <td>5</td>\n      <td>Master’s degree (M.A., M.S., M.Eng., MBA, etc.)</td>\n      <td>I am a developer by profession</td>\n      <td>Other online resources (e.g., videos, blogs, f...</td>\n      <td>107000.0</td>\n      <td>USD</td>\n      <td>1.0000</td>\n      <td>107000.000000</td>\n    </tr>\n    <tr>\n      <th>38346</th>\n      <td>Man</td>\n      <td>GBP\tPound sterling</td>\n      <td>55-64 years old</td>\n      <td>Developer, front-end;Developer, desktop or ent...</td>\n      <td>58500.0</td>\n      <td>NaN</td>\n      <td>73266</td>\n      <td>NaN</td>\n      <td>United Kingdom of Great Britain and Northern I...</td>\n      <td>Yearly</td>\n      <td>...</td>\n      <td>Hobby</td>\n      <td>50</td>\n      <td>31</td>\n      <td>Bachelor’s degree (B.A., B.S., B.Eng., etc.)</td>\n      <td>I am a developer by profession</td>\n      <td>Books / Physical media;On the job training</td>\n      <td>58500.0</td>\n      <td>GBP</td>\n      <td>0.8359</td>\n      <td>69984.447900</td>\n    </tr>\n  </tbody>\n</table>\n<p>38347 rows × 21 columns</p>\n</div>"
     },
     "execution_count": 136,
     "metadata": {},
     "output_type": "execute_result"
    }
   ],
   "source": [
    "df['AnualCompInUSD'] = df['AnualComp'] / df['ExchangeRate']\n",
    "df"
   ],
   "metadata": {
    "collapsed": false,
    "pycharm": {
     "name": "#%%\n"
    }
   }
  },
  {
   "cell_type": "code",
   "execution_count": 138,
   "outputs": [],
   "source": [
    "pd.set_option('display.float_format', lambda x: '%.3f' % x)"
   ],
   "metadata": {
    "collapsed": false,
    "pycharm": {
     "name": "#%%\n"
    }
   }
  },
  {
   "cell_type": "code",
   "execution_count": 143,
   "outputs": [],
   "source": [
    "final_df = df\n",
    "final_df.drop(columns = ['LearnCodeOnline', 'LearnCodeCoursesCert'], inplace=True)"
   ],
   "metadata": {
    "collapsed": false,
    "pycharm": {
     "name": "#%%\n"
    }
   }
  },
  {
   "cell_type": "code",
   "execution_count": 144,
   "outputs": [
    {
     "data": {
      "text/plain": "<Figure size 720x576 with 1 Axes>",
      "image/png": "[encoded data removed]"
     },
     "metadata": {
      "needs_background": "light"
     },
     "output_type": "display_data"
    }
   ],
   "source": [
    "plot_null_matrix(final_df)"
   ],
   "metadata": {
    "collapsed": false,
    "pycharm": {
     "name": "#%%\n"
    }
   }
  },
  {
   "cell_type": "code",
   "execution_count": 164,
   "outputs": [],
   "source": [
    "final_df.drop(final_df[final_df['AnualCompInUSD'] > 10**9].index, inplace=True) #remove the outliers"
   ],
   "metadata": {
    "collapsed": false,
    "pycharm": {
     "name": "#%%\n"
    }
   }
  },
  {
   "cell_type": "code",
   "execution_count": 333,
   "outputs": [],
   "source": [
    "final_df = final_df[final_df['AnualCompInUSD'] < 250000] #remove the coders that earn more than 250k per year"
   ],
   "metadata": {
    "collapsed": false,
    "pycharm": {
     "name": "#%%\n"
    }
   }
  },
  {
   "cell_type": "code",
   "execution_count": 340,
   "outputs": [
    {
     "data": {
      "text/plain": "      Gender                  Currency              Age  \\\n0        Man        GBP\tPound sterling  25-34 years old   \n1        Man    ILS\tIsraeli new shekel  35-44 years old   \n2      Woman         EUR European Euro  25-34 years old   \n3        Man        GBP\tPound sterling  18-24 years old   \n4        Man  USD\tUnited States dollar  35-44 years old   \n...      ...                       ...              ...   \n38342    Man          PLN\tPolish zloty  25-34 years old   \n38343    Man         EUR European Euro  18-24 years old   \n38344    Man  USD\tUnited States dollar  25-34 years old   \n38345    Man  USD\tUnited States dollar  25-34 years old   \n38346    Man        GBP\tPound sterling  55-64 years old   \n\n                                                 DevType  CompTotal  \\\n0      Data scientist or machine learning specialist;...  32000.000   \n1                                  Developer, full-stack  60000.000   \n2                                    Developer, back-end  46000.000   \n3              Developer, full-stack;Developer, back-end  48000.000   \n4                                    Engineering manager 194400.000   \n...                                                  ...        ...   \n38342                                Developer, back-end   8000.000   \n38343                              Developer, full-stack  36000.000   \n38344                                Developer, back-end  60000.000   \n38345      Data scientist or machine learning specialist 107000.000   \n38346  Developer, front-end;Developer, desktop or ent...  58500.000   \n\n       Unnamed: 0                                            Country CompFreq  \\\n0               2  United Kingdom of Great Britain and Northern I...   Yearly   \n1               3                                             Israel  Monthly   \n2               8                                        Netherlands   Yearly   \n3              10  United Kingdom of Great Britain and Northern I...   Yearly   \n4              11                           United States of America   Yearly   \n...           ...                                                ...      ...   \n38342       73259                                             Poland  Monthly   \n38343       73261                                             France   Yearly   \n38344       73263                                            Nigeria   Yearly   \n38345       73264                           United States of America   Yearly   \n38346       73266  United Kingdom of Great Britain and Northern I...   Yearly   \n\n       ResponseId                                   CodingActivities  \\\n0               3                                              Hobby   \n1               4                       I don’t code outside of work   \n2               9                       I don’t code outside of work   \n3              11                       I don’t code outside of work   \n4              12  Hobby;Contribute to open-source projects;Freel...   \n...           ...                                                ...   \n38342       73260                            Other (please specify):   \n38343       73262                                              Hobby   \n38344       73264                            Freelance/contract work   \n38345       73265                                              Hobby   \n38346       73267                                              Hobby   \n\n      YearsCode YearsCodePro                                          EdLevel  \\\n0            14            5  Master’s degree (M.A., M.S., M.Eng., MBA, etc.)   \n1            20           17     Bachelor’s degree (B.A., B.S., B.Eng., etc.)   \n2             6            6  Master’s degree (M.A., M.S., M.Eng., MBA, etc.)   \n3             5            2     Bachelor’s degree (B.A., B.S., B.Eng., etc.)   \n4            12           10     Bachelor’s degree (B.A., B.S., B.Eng., etc.)   \n...         ...          ...                                              ...   \n38342         6            2  Master’s degree (M.A., M.S., M.Eng., MBA, etc.)   \n38343         9            2  Master’s degree (M.A., M.S., M.Eng., MBA, etc.)   \n38344         8            5     Bachelor’s degree (B.A., B.S., B.Eng., etc.)   \n38345         6            5  Master’s degree (M.A., M.S., M.Eng., MBA, etc.)   \n38346        50           31     Bachelor’s degree (B.A., B.S., B.Eng., etc.)   \n\n                                              MainBranch  \\\n0      I am not primarily a developer, but I write co...   \n1                         I am a developer by profession   \n2                         I am a developer by profession   \n3                         I am a developer by profession   \n4      I am not primarily a developer, but I write co...   \n...                                                  ...   \n38342                     I am a developer by profession   \n38343                     I am a developer by profession   \n38344                     I am a developer by profession   \n38345                     I am a developer by profession   \n38346                     I am a developer by profession   \n\n                                               LearnCode  AnualComp  \\\n0      Books / Physical media;Friend or family member...  32000.000   \n1      Books / Physical media;School (i.e., Universit... 720000.000   \n2                    On the job training;Coding Bootcamp  46000.000   \n3      Books / Physical media;Friend or family member...  48000.000   \n4      Other online resources (e.g., videos, blogs, f... 194400.000   \n...                                                  ...        ...   \n38342  Books / Physical media;Other online resources ...  96000.000   \n38343  Books / Physical media;Other online resources ...  36000.000   \n38344  Books / Physical media;Other online resources ...  60000.000   \n38345  Other online resources (e.g., videos, blogs, f... 107000.000   \n38346         Books / Physical media;On the job training  58500.000   \n\n      CurrencyCode  ExchangeRate  AnualCompInUSD  NoRoles  \n0              GBP         0.836       38282.091        4  \n1              ILS         3.291      218785.135        1  \n2              EUR         0.988       46549.282        1  \n3              GBP         0.836       57423.137        2  \n4              USD         1.000      194400.000        1  \n...            ...           ...             ...      ...  \n38342          PLN         4.661       20595.113        1  \n38343          EUR         0.988       36429.872        1  \n38344          USD         1.000       60000.000        1  \n38345          USD         1.000      107000.000        1  \n38346          GBP         0.836       69984.448        2  \n\n[35487 rows x 20 columns]",
      "text/html": "<div>\n<style scoped>\n    .dataframe tbody tr th:only-of-type {\n        vertical-align: middle;\n    }\n\n    .dataframe tbody tr th {\n        vertical-align: top;\n    }\n\n    .dataframe thead th {\n        text-align: right;\n    }\n</style>\n<table border=\"1\" class=\"dataframe\">\n  <thead>\n    <tr style=\"text-align: right;\">\n      <th></th>\n      <th>Gender</th>\n      <th>Currency</th>\n      <th>Age</th>\n      <th>DevType</th>\n      <th>CompTotal</th>\n      <th>Unnamed: 0</th>\n      <th>Country</th>\n      <th>CompFreq</th>\n      <th>ResponseId</th>\n      <th>CodingActivities</th>\n      <th>YearsCode</th>\n      <th>YearsCodePro</th>\n      <th>EdLevel</th>\n      <th>MainBranch</th>\n      <th>LearnCode</th>\n      <th>AnualComp</th>\n      <th>CurrencyCode</th>\n      <th>ExchangeRate</th>\n      <th>AnualCompInUSD</th>\n      <th>NoRoles</th>\n    </tr>\n  </thead>\n  <tbody>\n    <tr>\n      <th>0</th>\n      <td>Man</td>\n      <td>GBP\tPound sterling</td>\n      <td>25-34 years old</td>\n      <td>Data scientist or machine learning specialist;...</td>\n      <td>32000.000</td>\n      <td>2</td>\n      <td>United Kingdom of Great Britain and Northern I...</td>\n      <td>Yearly</td>\n      <td>3</td>\n      <td>Hobby</td>\n      <td>14</td>\n      <td>5</td>\n      <td>Master’s degree (M.A., M.S., M.Eng., MBA, etc.)</td>\n      <td>I am not primarily a developer, but I write co...</td>\n      <td>Books / Physical media;Friend or family member...</td>\n      <td>32000.000</td>\n      <td>GBP</td>\n      <td>0.836</td>\n      <td>38282.091</td>\n      <td>4</td>\n    </tr>\n    <tr>\n      <th>1</th>\n      <td>Man</td>\n      <td>ILS\tIsraeli new shekel</td>\n      <td>35-44 years old</td>\n      <td>Developer, full-stack</td>\n      <td>60000.000</td>\n      <td>3</td>\n      <td>Israel</td>\n      <td>Monthly</td>\n      <td>4</td>\n      <td>I don’t code outside of work</td>\n      <td>20</td>\n      <td>17</td>\n      <td>Bachelor’s degree (B.A., B.S., B.Eng., etc.)</td>\n      <td>I am a developer by profession</td>\n      <td>Books / Physical media;School (i.e., Universit...</td>\n      <td>720000.000</td>\n      <td>ILS</td>\n      <td>3.291</td>\n      <td>218785.135</td>\n      <td>1</td>\n    </tr>\n    <tr>\n      <th>2</th>\n      <td>Woman</td>\n      <td>EUR European Euro</td>\n      <td>25-34 years old</td>\n      <td>Developer, back-end</td>\n      <td>46000.000</td>\n      <td>8</td>\n      <td>Netherlands</td>\n      <td>Yearly</td>\n      <td>9</td>\n      <td>I don’t code outside of work</td>\n      <td>6</td>\n      <td>6</td>\n      <td>Master’s degree (M.A., M.S., M.Eng., MBA, etc.)</td>\n      <td>I am a developer by profession</td>\n      <td>On the job training;Coding Bootcamp</td>\n      <td>46000.000</td>\n      <td>EUR</td>\n      <td>0.988</td>\n      <td>46549.282</td>\n      <td>1</td>\n    </tr>\n    <tr>\n      <th>3</th>\n      <td>Man</td>\n      <td>GBP\tPound sterling</td>\n      <td>18-24 years old</td>\n      <td>Developer, full-stack;Developer, back-end</td>\n      <td>48000.000</td>\n      <td>10</td>\n      <td>United Kingdom of Great Britain and Northern I...</td>\n      <td>Yearly</td>\n      <td>11</td>\n      <td>I don’t code outside of work</td>\n      <td>5</td>\n      <td>2</td>\n      <td>Bachelor’s degree (B.A., B.S., B.Eng., etc.)</td>\n      <td>I am a developer by profession</td>\n      <td>Books / Physical media;Friend or family member...</td>\n      <td>48000.000</td>\n      <td>GBP</td>\n      <td>0.836</td>\n      <td>57423.137</td>\n      <td>2</td>\n    </tr>\n    <tr>\n      <th>4</th>\n      <td>Man</td>\n      <td>USD\tUnited States dollar</td>\n      <td>35-44 years old</td>\n      <td>Engineering manager</td>\n      <td>194400.000</td>\n      <td>11</td>\n      <td>United States of America</td>\n      <td>Yearly</td>\n      <td>12</td>\n      <td>Hobby;Contribute to open-source projects;Freel...</td>\n      <td>12</td>\n      <td>10</td>\n      <td>Bachelor’s degree (B.A., B.S., B.Eng., etc.)</td>\n      <td>I am not primarily a developer, but I write co...</td>\n      <td>Other online resources (e.g., videos, blogs, f...</td>\n      <td>194400.000</td>\n      <td>USD</td>\n      <td>1.000</td>\n      <td>194400.000</td>\n      <td>1</td>\n    </tr>\n    <tr>\n      <th>...</th>\n      <td>...</td>\n      <td>...</td>\n      <td>...</td>\n      <td>...</td>\n      <td>...</td>\n      <td>...</td>\n      <td>...</td>\n      <td>...</td>\n      <td>...</td>\n      <td>...</td>\n      <td>...</td>\n      <td>...</td>\n      <td>...</td>\n      <td>...</td>\n      <td>...</td>\n      <td>...</td>\n      <td>...</td>\n      <td>...</td>\n      <td>...</td>\n      <td>...</td>\n    </tr>\n    <tr>\n      <th>38342</th>\n      <td>Man</td>\n      <td>PLN\tPolish zloty</td>\n      <td>25-34 years old</td>\n      <td>Developer, back-end</td>\n      <td>8000.000</td>\n      <td>73259</td>\n      <td>Poland</td>\n      <td>Monthly</td>\n      <td>73260</td>\n      <td>Other (please specify):</td>\n      <td>6</td>\n      <td>2</td>\n      <td>Master’s degree (M.A., M.S., M.Eng., MBA, etc.)</td>\n      <td>I am a developer by profession</td>\n      <td>Books / Physical media;Other online resources ...</td>\n      <td>96000.000</td>\n      <td>PLN</td>\n      <td>4.661</td>\n      <td>20595.113</td>\n      <td>1</td>\n    </tr>\n    <tr>\n      <th>38343</th>\n      <td>Man</td>\n      <td>EUR European Euro</td>\n      <td>18-24 years old</td>\n      <td>Developer, full-stack</td>\n      <td>36000.000</td>\n      <td>73261</td>\n      <td>France</td>\n      <td>Yearly</td>\n      <td>73262</td>\n      <td>Hobby</td>\n      <td>9</td>\n      <td>2</td>\n      <td>Master’s degree (M.A., M.S., M.Eng., MBA, etc.)</td>\n      <td>I am a developer by profession</td>\n      <td>Books / Physical media;Other online resources ...</td>\n      <td>36000.000</td>\n      <td>EUR</td>\n      <td>0.988</td>\n      <td>36429.872</td>\n      <td>1</td>\n    </tr>\n    <tr>\n      <th>38344</th>\n      <td>Man</td>\n      <td>USD\tUnited States dollar</td>\n      <td>25-34 years old</td>\n      <td>Developer, back-end</td>\n      <td>60000.000</td>\n      <td>73263</td>\n      <td>Nigeria</td>\n      <td>Yearly</td>\n      <td>73264</td>\n      <td>Freelance/contract work</td>\n      <td>8</td>\n      <td>5</td>\n      <td>Bachelor’s degree (B.A., B.S., B.Eng., etc.)</td>\n      <td>I am a developer by profession</td>\n      <td>Books / Physical media;Other online resources ...</td>\n      <td>60000.000</td>\n      <td>USD</td>\n      <td>1.000</td>\n      <td>60000.000</td>\n      <td>1</td>\n    </tr>\n    <tr>\n      <th>38345</th>\n      <td>Man</td>\n      <td>USD\tUnited States dollar</td>\n      <td>25-34 years old</td>\n      <td>Data scientist or machine learning specialist</td>\n      <td>107000.000</td>\n      <td>73264</td>\n      <td>United States of America</td>\n      <td>Yearly</td>\n      <td>73265</td>\n      <td>Hobby</td>\n      <td>6</td>\n      <td>5</td>\n      <td>Master’s degree (M.A., M.S., M.Eng., MBA, etc.)</td>\n      <td>I am a developer by profession</td>\n      <td>Other online resources (e.g., videos, blogs, f...</td>\n      <td>107000.000</td>\n      <td>USD</td>\n      <td>1.000</td>\n      <td>107000.000</td>\n      <td>1</td>\n    </tr>\n    <tr>\n      <th>38346</th>\n      <td>Man</td>\n      <td>GBP\tPound sterling</td>\n      <td>55-64 years old</td>\n      <td>Developer, front-end;Developer, desktop or ent...</td>\n      <td>58500.000</td>\n      <td>73266</td>\n      <td>United Kingdom of Great Britain and Northern I...</td>\n      <td>Yearly</td>\n      <td>73267</td>\n      <td>Hobby</td>\n      <td>50</td>\n      <td>31</td>\n      <td>Bachelor’s degree (B.A., B.S., B.Eng., etc.)</td>\n      <td>I am a developer by profession</td>\n      <td>Books / Physical media;On the job training</td>\n      <td>58500.000</td>\n      <td>GBP</td>\n      <td>0.836</td>\n      <td>69984.448</td>\n      <td>2</td>\n    </tr>\n  </tbody>\n</table>\n<p>35487 rows × 20 columns</p>\n</div>"
     },
     "execution_count": 340,
     "metadata": {},
     "output_type": "execute_result"
    }
   ],
   "source": [
    "final_df"
   ],
   "metadata": {
    "collapsed": false,
    "pycharm": {
     "name": "#%%\n"
    }
   }
  }
 ],
 "metadata": {
  "kernelspec": {
   "display_name": "Python 3",
   "language": "python",
   "name": "python3"
  },
  "language_info": {
   "codemirror_mode": {
    "name": "ipython",
    "version": 2
   },
   "file_extension": ".py",
   "mimetype": "text/x-python",
   "name": "python",
   "nbconvert_exporter": "python",
   "pygments_lexer": "ipython2",
   "version": "2.7.6"
  }
 },
 "nbformat": 4,
 "nbformat_minor": 0
}